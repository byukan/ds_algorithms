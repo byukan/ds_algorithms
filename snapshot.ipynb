{
 "cells": [
  {
   "cell_type": "code",
   "execution_count": 48,
   "metadata": {
    "collapsed": false
   },
   "outputs": [
    {
     "name": "stdout",
     "output_type": "stream",
     "text": [
      "[(7, 4, 1), (8, 5, 2), (9, 6, 3)]\n",
      "[(3, 6, 9), (2, 5, 8), (1, 4, 7)]\n"
     ]
    }
   ],
   "source": [
    "import numpy as np\n",
    "\n",
    "def rotatePictureMethod(matrix, m, n, flag):\n",
    "    \"\"\"\n",
    "    rotate an image 90 degrees\n",
    "    if flag is 0, rotate left, if flag is 1 then rotate right\n",
    "    \"\"\"\n",
    "    # clockwise 90 degrees\n",
    "    if flag == 1:\n",
    "        # zip(*matrix) creates lists constructed from corresponding columns\n",
    "        # then reverse the order of arrays using [::-1]\n",
    "        rotated = list(zip(*matrix[::-1]))\n",
    "        \n",
    "    # counter-clockwise 90 degrees\n",
    "    elif flag == 0:\n",
    "        # for a ccw rotation, we reverse the arrays row-wise\n",
    "        rotated = list(zip(*matrix))[::-1]  #ccw\n",
    "    \n",
    "    return rotated\n",
    "    \n",
    "    \n",
    "matrix = np.array([[1, 2, 3], [4, 5, 6], [7, 8, 9]])\n",
    "print(rotatePictureMethod(matrix, 3, 3, flag=1))\n",
    "print(rotatePictureMethod(matrix, 3, 3, flag=0))"
   ]
  },
  {
   "cell_type": "code",
   "execution_count": 25,
   "metadata": {
    "collapsed": false,
    "scrolled": true
   },
   "outputs": [
    {
     "name": "stdout",
     "output_type": "stream",
     "text": [
      "False\n",
      "True\n"
     ]
    }
   ],
   "source": [
    "def balancedParentheses(str):\n",
    "    \"\"\"\n",
    "    :param: s is the string of parentheses to check\n",
    "    \"\"\"\n",
    "    stack = []  # use a stack to store open parentheses\n",
    "    \n",
    "    for x in str:\n",
    "        if x == '(':\n",
    "            stack.append(x)\n",
    "        else:\n",
    "            if len(stack) == 0:\n",
    "                return -1\n",
    "            open_parenthesis = stack.pop()\n",
    "            if (x ==')' and open_parenthesis !='('):\n",
    "                return -1\n",
    "    return len(stack) == 0\n",
    "\n",
    "s = '((()))(()()'\n",
    "s2 = '(()()()((())))'\n",
    "print(balancedParentheses(s))\n",
    "print(balancedParentheses(s2))"
   ]
  },
  {
   "cell_type": "code",
   "execution_count": null,
   "metadata": {
    "collapsed": true
   },
   "outputs": [],
   "source": [
    "def make_change(currency=[], value=0):\n",
    "    \"\"\"Given a list of coins, find the minimum number of coins and which ones.\n",
    "    Use dynamic programming.\n",
    "    \n",
    "    >>> make_change(coins=[1, 5, 10], value=10)\n",
    "    (1, [10]) # 1 coin, 10 denomination\n",
    "    \n",
    "    >>> make_change(coins=[1, 5, 10], value=15)\n",
    "    (2, [10, 5]) # 2 coins, 10 and 5 in denomination\n",
    "    \n",
    "    >>> make_change(coins=[5, 10], value=3)\n",
    "    No solution possible\n",
    "    \"\"\"\n",
    "\n",
    "    table = [None]*(value+1) # Initialize the table\n",
    "    table[0] = [] \n",
    "    for i in range(1, value+1):\n",
    "        for current in currency:\n",
    "            if current > i: continue\n",
    "            elif not table[i] or len(table[i - current]) + 1 < len(table[i]):\n",
    "                if table[i - current] != None:\n",
    "                    table[i] = table[i - current][:]\n",
    "                    table[i].append(current)\n",
    "\n",
    "    if table[-1] != None:\n",
    "        return len(table[-1]), table[-1] # Number of coins, which coins\n",
    "    else:\n",
    "        return 'No solution possible'\n",
    "\n",
    "    \n",
    "assert make_change(currency=[1, 5, 10], value=10) == (1, [10]) # 1 piece of currency, value of 10\n",
    "assert make_change(currency=[1, 5, 10], value=15) == (2, [10, 5]) # 2 pieces of currency, values of 10 and 5\n",
    "assert make_change(currency=[1, 5, 10], value=30) == (3, [10, 10, 10]) \n",
    "assert make_change(currency=[1, 5, 21, 25], value=63) == (3, [21, 21, 21])\n",
    "assert make_change(currency=[5, 10], value=3) == 'No solution possible' # Error handling"
   ]
  },
  {
   "cell_type": "code",
   "execution_count": 36,
   "metadata": {
    "collapsed": false,
    "scrolled": true
   },
   "outputs": [
    {
     "data": {
      "text/plain": [
       "'0b100000'"
      ]
     },
     "execution_count": 36,
     "metadata": {},
     "output_type": "execute_result"
    }
   ],
   "source": [
    "bin(2**5)"
   ]
  },
  {
   "cell_type": "code",
   "execution_count": 35,
   "metadata": {
    "collapsed": false
   },
   "outputs": [
    {
     "name": "stdout",
     "output_type": "stream",
     "text": [
      "---PHONEBOOK----\n",
      "['Alicia', '632-4123']\n",
      "['Mike', '567-2188']\n",
      "['Ming', '293-6753', ['Ming', '333-8233']]\n",
      "['Bob', '567-8888']\n",
      "['Aditya', '852-6551', ['Aditya', '777-8888']]\n",
      "['Ankit', '293-8625']\n",
      "---PHONEBOOK----\n",
      "['Alicia', '632-4123']\n",
      "['Mike', '567-2188']\n",
      "['Ming', '293-6753', ['Ming', '333-8233']]\n",
      "['Bob', '567-8888']\n",
      "['Aditya', '852-6551', ['Aditya', '777-8888']]\n",
      "['Ankit', '293-8625']\n",
      "Ming: 333-8233\n"
     ]
    }
   ],
   "source": [
    "#!/usr/bin/python\n",
    "# -*- coding: utf-8 -*-\n",
    "\n",
    "\n",
    "class HashMap:\n",
    "    \"\"\"\n",
    "    member functions: init, _get_hash, add, value, delete, print\n",
    "    \"\"\"\n",
    "\n",
    "    def __init__(self):\n",
    "        self.size = 64\n",
    "        self.map = [None] * self.size\n",
    "\n",
    "    def _get_hash(self, key):\n",
    "        \"\"\"\n",
    "        hash function, modded sum of the ascii values of chars in string\n",
    "        :param: key gets mapped to an integer value\n",
    "        :return: hash key in the range of self.map's size\n",
    "    \"\"\"\n",
    "\n",
    "        ascii_sum = 0\n",
    "        for char in key:\n",
    "            ascii_sum += ord(char)\n",
    "        return ascii_sum % self.size\n",
    "\n",
    "    def add(self, key, value):\n",
    "        \"\"\"\n",
    "        add key value pair to hashmap\n",
    "        \"\"\"\n",
    "\n",
    "    # declare key_hash, key_value\n",
    "\n",
    "        key_hash = self._get_hash(key)\n",
    "        key_value = [key, value]\n",
    "\n",
    "        # add to self.map\n",
    "\n",
    "        if self.map[key_hash] is None:\n",
    "            self.map[key_hash] = list(key_value)\n",
    "            return True\n",
    "        else:\n",
    "\n",
    "            # handle collisions\n",
    "\n",
    "            for pair in self.map[key_hash]:\n",
    "\n",
    "                # update value if key is already in inner list\n",
    "\n",
    "                if pair[0] == key:\n",
    "                    pair[1] = value\n",
    "                    return True\n",
    "\n",
    "            # append new key if not found in inner list\n",
    "\n",
    "            self.map[key_hash].append(key_value)\n",
    "            return True\n",
    "\n",
    "    def get(self, key):\n",
    "        key_hash = self._get_hash(key)\n",
    "        if self.map[key_hash] is None:\n",
    "            raise Exception('KeyError')\n",
    "        else:\n",
    "\n",
    "            # get the right key by looping through self.map[key_hash]\n",
    "\n",
    "            for pair in self.map[key_hash]:\n",
    "                if pair[0] == key:\n",
    "                    return pair[1]\n",
    "        return None\n",
    "\n",
    "    def delete(self, key):\n",
    "        key_hash = self._get_hash(key)\n",
    "        if self.map[key_hash] is None:\n",
    "            raise Exception('KeyError')\n",
    "        else:\n",
    "            # get the right key by looping through self.map[key_hash]\n",
    "            for (i, pair) in enumerate(self.map[key_hash]):\n",
    "                if pair[0] == key:\n",
    "                    self.map[key_hash].pop(i)\n",
    "                    return True\n",
    "\n",
    "    def print(self):\n",
    "        print('---PHONEBOOK----')\n",
    "        for x in self.map:\n",
    "            if x is not None:\n",
    "                print(str(x))\n",
    "\n",
    "h = HashMap()\n",
    "h.add('Bob', '567-8888')\n",
    "h.add('Ming', '293-6753')\n",
    "h.add('Ming', '333-8233')\n",
    "h.add('Ankit', '293-8625')\n",
    "h.add('Aditya', '852-6551')\n",
    "h.add('Alicia', '632-4123')\n",
    "h.add('Mike', '567-2188')\n",
    "h.add('Aditya', '777-8888')\n",
    "h.print()\t\t\n",
    "h.delete('Bob')\n",
    "h.print()\n",
    "print('Ming: ' + h.get('Ming'))"
   ]
  },
  {
   "cell_type": "code",
   "execution_count": 23,
   "metadata": {
    "collapsed": false,
    "scrolled": true
   },
   "outputs": [
    {
     "name": "stdout",
     "output_type": "stream",
     "text": [
      "0\n",
      "1\n",
      "2\n",
      "3\n",
      "4\n",
      "5\n",
      "6\n",
      "7\n",
      "8\n"
     ]
    },
    {
     "ename": "Exception",
     "evalue": "does this break?",
     "output_type": "error",
     "traceback": [
      "\u001b[0;31m---------------------------------------------------------------------------\u001b[0m",
      "\u001b[0;31mException\u001b[0m                                 Traceback (most recent call last)",
      "\u001b[0;32m<ipython-input-23-766ed707bbb9>\u001b[0m in \u001b[0;36m<module>\u001b[0;34m()\u001b[0m\n\u001b[1;32m      2\u001b[0m     \u001b[0mprint\u001b[0m\u001b[0;34m(\u001b[0m\u001b[0mi\u001b[0m\u001b[0;34m)\u001b[0m\u001b[0;34m\u001b[0m\u001b[0m\n\u001b[1;32m      3\u001b[0m     \u001b[0;32mif\u001b[0m \u001b[0mi\u001b[0m \u001b[0;34m==\u001b[0m \u001b[0;36m8\u001b[0m\u001b[0;34m:\u001b[0m\u001b[0;34m\u001b[0m\u001b[0m\n\u001b[0;32m----> 4\u001b[0;31m         \u001b[0;32mraise\u001b[0m \u001b[0mException\u001b[0m\u001b[0;34m(\u001b[0m\u001b[0;34m\"does this break?\"\u001b[0m\u001b[0;34m)\u001b[0m\u001b[0;34m\u001b[0m\u001b[0m\n\u001b[0m",
      "\u001b[0;31mException\u001b[0m: does this break?"
     ]
    }
   ],
   "source": [
    "for i in range(10):\n",
    "    print(i)\n",
    "    if i == 8:\n",
    "        raise Exception(\"does this break?\")"
   ]
  },
  {
   "cell_type": "code",
   "execution_count": 21,
   "metadata": {
    "collapsed": false,
    "scrolled": false
   },
   "outputs": [
    {
     "name": "stdout",
     "output_type": "stream",
     "text": [
      "<class 'int'>\n"
     ]
    },
    {
     "data": {
      "text/plain": [
       "28"
      ]
     },
     "execution_count": 21,
     "metadata": {},
     "output_type": "execute_result"
    }
   ],
   "source": [
    "import sys\n",
    "a = 2\n",
    "print(type(a))\n",
    "sys.getsizeof(a)"
   ]
  },
  {
   "cell_type": "code",
   "execution_count": 26,
   "metadata": {
    "collapsed": false,
    "scrolled": false
   },
   "outputs": [
    {
     "name": "stdout",
     "output_type": "stream",
     "text": [
      "['Lance', 'Joey', 'Chris', 'Justin', 'JC']\n"
     ]
    }
   ],
   "source": [
    "a = [\"Lance\", \"Joey\", \"Chris\", \"Justin\", \"JC\"]\n",
    "print(str(a))"
   ]
  },
  {
   "cell_type": "code",
   "execution_count": 11,
   "metadata": {
    "collapsed": false,
    "scrolled": false
   },
   "outputs": [
    {
     "data": {
      "text/plain": [
       "Counter({'Premature': 1,\n",
       "         'all': 1,\n",
       "         'evil.': 1,\n",
       "         'is': 1,\n",
       "         'of': 1,\n",
       "         'optimization': 1,\n",
       "         'root': 1,\n",
       "         'the': 1})"
      ]
     },
     "execution_count": 11,
     "metadata": {},
     "output_type": "execute_result"
    }
   ],
   "source": [
    "from collections import Counter\n",
    "\n",
    "s = \"Premature optimization is the root of all evil.\"\n",
    "\n",
    "Counter(s.split(\" \"))"
   ]
  },
  {
   "cell_type": "code",
   "execution_count": 5,
   "metadata": {
    "collapsed": false,
    "scrolled": true
   },
   "outputs": [
    {
     "name": "stdout",
     "output_type": "stream",
     "text": [
      "{'is', 'Eric', 'and', 'name', 'my'}\n",
      "{'John', 'Eric', 'Jake'}\n",
      "{'John', 'Jill'}\n"
     ]
    },
    {
     "data": {
      "text/plain": [
       "{'John'}"
      ]
     },
     "execution_count": 5,
     "metadata": {},
     "output_type": "execute_result"
    }
   ],
   "source": [
    "print(set(\"my name is Eric and Eric is my name\".split()))\n",
    "\n",
    "a = set([\"Jake\", \"John\", \"Eric\"])\n",
    "print(a)\n",
    "b = set([\"John\", \"Jill\"])\n",
    "print(b)\n",
    "\n",
    "a = set([\"Jake\", \"John\", \"Eric\"])\n",
    "b = set([\"John\", \"Jill\"])\n",
    "a.intersection(b)"
   ]
  },
  {
   "cell_type": "code",
   "execution_count": 9,
   "metadata": {
    "collapsed": false
   },
   "outputs": [
    {
     "data": {
      "text/plain": [
       "{'John'}"
      ]
     },
     "execution_count": 9,
     "metadata": {},
     "output_type": "execute_result"
    }
   ],
   "source": [
    "a = set([\"Jake\", \"John\", \"Eric\"])\n",
    "b = set([\"John\", \"Jill\"])\n",
    "a.intersection(b)"
   ]
  },
  {
   "cell_type": "code",
   "execution_count": 7,
   "metadata": {
    "collapsed": false
   },
   "outputs": [],
   "source": [
    "reset -fs"
   ]
  },
  {
   "cell_type": "code",
   "execution_count": 41,
   "metadata": {
    "collapsed": false,
    "scrolled": true
   },
   "outputs": [
    {
     "name": "stdout",
     "output_type": "stream",
     "text": [
      "Interactive namespace is empty.\n"
     ]
    }
   ],
   "source": [
    "whos"
   ]
  },
  {
   "cell_type": "code",
   "execution_count": null,
   "metadata": {
    "collapsed": true
   },
   "outputs": [],
   "source": [
    "def solution(A):\n",
    "    # write your code in Python 2.7\n",
    "    \"\"\"\n",
    "    expected worst-case time complexity is O(N);\n",
    "    expected worst-case space complexity is O(N), beyond input storage (not counting the storage required for input\n",
    "     arguments).\n",
    "    :param A: zero-indexed array A consisting of N integers\n",
    "    :return: returns any of its equilibrium indices. The function should return −1 if no equilibrium index exists\n",
    "    \"\"\"\n",
    "    for i in range(len(A)):\n",
    "        if sum(A[:i]) == sum(A[i + 1:]):\n",
    "            return i\n",
    "    return -1\n",
    "\n",
    "v = [-1, 3, -4, 5, 1, -6, 2, 1]\n",
    "v = []\n",
    "solution(v)"
   ]
  },
  {
   "cell_type": "code",
   "execution_count": 37,
   "metadata": {
    "collapsed": false
   },
   "outputs": [
    {
     "name": "stdout",
     "output_type": "stream",
     "text": [
      "24-A0R-74K\n",
      "R\n"
     ]
    }
   ],
   "source": [
    "def solution(S, K):\n",
    "    # write your code in Python 2.7\n",
    "    \"\"\"\n",
    "    :param S: non-empty string consisting of N characters representing a license key to format\n",
    "    :param K: desired length for each group of characters\n",
    "    \"\"\"\n",
    "    # convert string to a list to make it a mutable type\n",
    "    # remove all dashes and convert to upper case\n",
    "    cleaned_key = list(S.replace(\"-\", \"\").upper())\n",
    "    \n",
    "    # reinsert the dashes after every K characters, staring from the last index\n",
    "    for i in range(len(cleaned_key) - K, 0, -K):\n",
    "        # insert \"-\" at index i\n",
    "        cleaned_key.insert(i, \"-\")\n",
    "\n",
    "    return \"\".join(cleaned_key)  # convert back to string\n",
    "\n",
    "\n",
    "def main():\n",
    "    s = \"2-4A0r7-4k\"\n",
    "    print(solution(s, 3))\n",
    "    \n",
    "    s1 = \"r\"\n",
    "    print(solution(s1, 1))\n",
    "    \n",
    "    \n",
    "main()\n"
   ]
  },
  {
   "cell_type": "code",
   "execution_count": 42,
   "metadata": {
    "collapsed": true
   },
   "outputs": [],
   "source": [
    "# you can write to stdout for debugging purposes, e.g.\n",
    "# print \"this is a debug message\"\n",
    "\n",
    "class BinarySearchTree(object):\n",
    "    x = 0\n",
    "    l = None\n",
    "    r = None\n",
    "\n",
    "def solution(A, B, T):\n",
    "    # write your code in Python 2.7\n",
    "    \"\"\"\n",
    "    :param A: int, lower bound of range\n",
    "    :param B: int, upper bound of range\n",
    "    :param T: BinarySearchTree\n",
    "    :return: returns size of a largest subtree of tree T in which all the values are contained in the range [A..B].  If there is no such subtree, the function returns 0.\n",
    "    \"\"\"\n",
    "    if T is None:\n",
    "        return 0\n",
    "    size = 0\n",
    "\n",
    "\n",
    "    \n",
    "    \n",
    "def main():\n",
    "    tree = (15, 29, (25, (19, (12, (4, None, None), None), (22, None, (23, None, None))), (37, (29, None, (30, None, None)), None)))\n",
    "    \n",
    "    \n",
    "main()"
   ]
  },
  {
   "cell_type": "code",
   "execution_count": 47,
   "metadata": {
    "collapsed": false
   },
   "outputs": [
    {
     "name": "stdout",
     "output_type": "stream",
     "text": [
      "None\n",
      "True\n"
     ]
    }
   ],
   "source": [
    "print(min(None, 1))\n",
    "print(not None)"
   ]
  },
  {
   "cell_type": "code",
   "execution_count": null,
   "metadata": {
    "collapsed": true
   },
   "outputs": [],
   "source": []
  }
 ],
 "metadata": {
  "anaconda-cloud": {},
  "kernelspec": {
   "display_name": "Python [conda env:nlp]",
   "language": "python",
   "name": "conda-env-nlp-py"
  },
  "language_info": {
   "codemirror_mode": {
    "name": "ipython",
    "version": 3
   },
   "file_extension": ".py",
   "mimetype": "text/x-python",
   "name": "python",
   "nbconvert_exporter": "python",
   "pygments_lexer": "ipython3",
   "version": "3.5.2"
  }
 },
 "nbformat": 4,
 "nbformat_minor": 0
}
