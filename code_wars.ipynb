{
 "cells": [
  {
   "cell_type": "code",
   "execution_count": 22,
   "metadata": {
    "collapsed": false,
    "scrolled": false
   },
   "outputs": [
    {
     "data": {
      "text/plain": [
       "2"
      ]
     },
     "execution_count": 22,
     "metadata": {},
     "output_type": "execute_result"
    }
   ],
   "source": [
    "def duplicate_count(text):\n",
    "    # Your code goes here\n",
    "#     from collections import Counter\n",
    "#     c = Counter(text.lower())\n",
    "    \n",
    "    # make your own Counter c\n",
    "#     c = {}\n",
    "#     for x in text:\n",
    "#         if x not in c:\n",
    "#             c[x] = 0\n",
    "#         c[x] += 1\n",
    "    \n",
    "#     return len([x for x in c.iteritems() if x > 1])\n",
    "    return len([x for x in set(text.lower()) if text.lower().count(x) > 1])\n",
    "\n",
    "\n",
    "duplicate_count(\"ssiia\")\n",
    "\n",
    "# test.assert_equals(duplicate_count(\"\"), 0)\n",
    "# test.assert_equals(duplicate_count(\"abcde\"), 0)\n",
    "# test.assert_equals(duplicate_count(\"abcdeaa\"), 1)\n",
    "# test.assert_equals(duplicate_count(\"abcdeaB\"), 2)\n",
    "# test.assert_equals(duplicate_count(\"Indivisibilities\"), 2)\n",
    "\n",
    "# test.assert_equals(duplicate_count(string.lowercase), 0)\n",
    "# test.assert_equals(duplicate_count(string.lowercase + \"aaAb\"), 2)\n",
    "\n"
   ]
  },
  {
   "cell_type": "code",
   "execution_count": 7,
   "metadata": {
    "collapsed": false,
    "scrolled": true
   },
   "outputs": [
    {
     "data": {
      "text/plain": [
       "51.0"
      ]
     },
     "execution_count": 7,
     "metadata": {},
     "output_type": "execute_result"
    }
   ],
   "source": [
    "def dig_pow(n, p):\n",
    "    s = 0\n",
    "    for i, x in enumerate(str(n)):\n",
    "        s += int(x)**(p+i)\n",
    "    return s/n if s%n == 0 else -1\n",
    "        \n",
    "        \n",
    "# test.assert_equals(dig_pow(89, 1), 1)\n",
    "# test.assert_equals(dig_pow(92, 1), -1)\n",
    "# test.assert_equals(dig_pow(46288, 3), 51)\n",
    "\n",
    "dig_pow(46288, 3)"
   ]
  },
  {
   "cell_type": "code",
   "execution_count": 75,
   "metadata": {
    "collapsed": false,
    "scrolled": true
   },
   "outputs": [
    {
     "data": {
      "text/plain": [
       "False"
      ]
     },
     "execution_count": 75,
     "metadata": {},
     "output_type": "execute_result"
    }
   ],
   "source": [
    "def validate_pin(pin):\n",
    "    return len(pin) in (4, 6) and pin.isdigit()\n",
    "\n",
    "validate_pin('a234')"
   ]
  },
  {
   "cell_type": "code",
   "execution_count": 2,
   "metadata": {
    "collapsed": false,
    "scrolled": true
   },
   "outputs": [
    {
     "data": {
      "text/plain": [
       "[0, 1]"
      ]
     },
     "execution_count": 2,
     "metadata": {},
     "output_type": "execute_result"
    }
   ],
   "source": [
    "def fibonacci(n):\n",
    "    v = [0, 1]\n",
    "    for _ in range(n-2): v.append(sum(v[-2:]))\n",
    "    return v[:n]\n",
    "\n",
    "fibonacci(2)"
   ]
  },
  {
   "cell_type": "code",
   "execution_count": 46,
   "metadata": {
    "collapsed": false,
    "scrolled": true
   },
   "outputs": [
    {
     "data": {
      "text/plain": [
       "193"
      ]
     },
     "execution_count": 46,
     "metadata": {},
     "output_type": "execute_result"
    }
   ],
   "source": [
    "# def tribonacci(signature,n):\n",
    "# #     if n == 0:\n",
    "# #         return []\n",
    "    \n",
    "#     if n < 4:\n",
    "#         return signature[:n]\n",
    "    \n",
    "#     v = signature + ([0]*(n-3))\n",
    "#     # f_3 is f sub n-3\n",
    "#     f3, f2, f1 = signature\n",
    "    \n",
    "#     for i, x in enumerate(v):\n",
    "#         if i < 3:\n",
    "#             continue\n",
    "            \n",
    "#         # first calculate f0\n",
    "#         f0 = f3 + f2 + f1\n",
    "#         v[i] = f0\n",
    "        \n",
    "#         # update all the values\n",
    "#         f3 = f2\n",
    "#         f2 = f1\n",
    "#         f1 = f0\n",
    "        \n",
    "#     return v\n",
    "\n",
    "def tribonacci(signature, n):\n",
    "    v = signature[:n]\n",
    "    for i in range(n-3):\n",
    "        v.append(sum(v[-3:]))\n",
    "    return v\n",
    "        \n",
    "# Test.assert_equals(tribonacci([1,1,1],10),[1,1,1,3,5,9,17,31,57,105])\n",
    "result = tribonacci([1,1,1],10)\n",
    "\n"
   ]
  },
  {
   "cell_type": "code",
   "execution_count": 13,
   "metadata": {
    "collapsed": false,
    "scrolled": true
   },
   "outputs": [
    {
     "data": {
      "text/plain": [
       "True"
      ]
     },
     "execution_count": 13,
     "metadata": {},
     "output_type": "execute_result"
    }
   ],
   "source": [
    "from collections import Counter\n",
    "\n",
    "# def is_isogram(string):\n",
    "#     if string == \"\":\n",
    "#         return True\n",
    "        \n",
    "#     c = Counter(string)\n",
    "#     if max(c.values()) > 1:\n",
    "#         return False\n",
    "        \n",
    "#     return True\n",
    "\n",
    "def is_isogram(string):\n",
    "    return len(string) == len(set(string.lower()))\n",
    "\n",
    "\n",
    "is_isogram('Dermatoglyphics')"
   ]
  },
  {
   "cell_type": "code",
   "execution_count": 2,
   "metadata": {
    "collapsed": false,
    "scrolled": true
   },
   "outputs": [
    {
     "name": "stdout",
     "output_type": "stream",
     "text": [
      "1\n",
      "2\n",
      "3\n"
     ]
    }
   ],
   "source": [
    "v = [1, 2, 3]\n",
    "for i, x in enumerate(v):\n",
    "    print(v[i])"
   ]
  },
  {
   "cell_type": "code",
   "execution_count": 64,
   "metadata": {
    "collapsed": false
   },
   "outputs": [
    {
     "data": {
      "text/plain": [
       "[]"
      ]
     },
     "execution_count": 64,
     "metadata": {},
     "output_type": "execute_result"
    }
   ],
   "source": [
    "speeds = [1, 2, 3, 4, 5]\n",
    "speeds = []\n",
    "\n",
    "int(max(speeds)) if len(speeds) else []"
   ]
  },
  {
   "cell_type": "code",
   "execution_count": 60,
   "metadata": {
    "collapsed": false,
    "scrolled": true
   },
   "outputs": [
    {
     "data": {
      "text/plain": [
       "74"
      ]
     },
     "execution_count": 60,
     "metadata": {},
     "output_type": "execute_result"
    }
   ],
   "source": [
    "def gps(s, x):\n",
    "    speeds = [(x[i+1] - speed)/(s/60/60) for i, speed in enumerate(x[:-1])]\n",
    "    return int(max(speeds))\n",
    "\n",
    "x = [0.0, 0.19, 0.5, 0.75, 1.0, 1.25, 1.5, 1.75, 2.0, 2.25]\n",
    "s = 15\n",
    "\n",
    "gps(s, x)"
   ]
  },
  {
   "cell_type": "code",
   "execution_count": 48,
   "metadata": {
    "collapsed": false,
    "scrolled": true
   },
   "outputs": [
    {
     "data": {
      "text/plain": [
       "45.6"
      ]
     },
     "execution_count": 48,
     "metadata": {},
     "output_type": "execute_result"
    }
   ],
   "source": [
    ".19/(15/60/60)"
   ]
  },
  {
   "cell_type": "code",
   "execution_count": null,
   "metadata": {
    "collapsed": true
   },
   "outputs": [],
   "source": [
    "def gps(s, x):\n",
    "    "
   ]
  },
  {
   "cell_type": "code",
   "execution_count": 45,
   "metadata": {
    "collapsed": false,
    "scrolled": true
   },
   "outputs": [
    {
     "data": {
      "text/plain": [
       "['Eyes', 'Glasses', 'Monocles', 'Telescopes']"
      ]
     },
     "execution_count": 45,
     "metadata": {},
     "output_type": "execute_result"
    }
   ],
   "source": [
    "def sort_by_length(arr):\n",
    "    return sorted(arr, key=len)\n",
    "\n",
    "sort_by_length([\"Telescopes\", \"Glasses\", \"Eyes\", \"Monocles\"])"
   ]
  },
  {
   "cell_type": "code",
   "execution_count": 43,
   "metadata": {
    "collapsed": true
   },
   "outputs": [],
   "source": [
    "def max_rot(n):\n",
    "    s, arr = str(n), [n]\n",
    "    for i in range(len(s)):\n",
    "        s = s[:i] + s[i+1:] + s[i]\n",
    "        arr.append(int(s))\n",
    "    return max(arr)"
   ]
  },
  {
   "cell_type": "code",
   "execution_count": 42,
   "metadata": {
    "collapsed": false,
    "scrolled": true
   },
   "outputs": [
    {
     "data": {
      "text/plain": [
       "85821534"
      ]
     },
     "execution_count": 42,
     "metadata": {},
     "output_type": "execute_result"
    }
   ],
   "source": [
    "def rotate_left(n):\n",
    "    return str(n)[1:] + str(n)[0]\n",
    "\n",
    "def max_rot(n):\n",
    "    rotations = [str(n)]\n",
    "    rotations.append(str(n)[1:] + str(n)[0])\n",
    "    \n",
    "    for i in range(len(str(n))-2):\n",
    "        rotations.append(rotations[-1][:i+1] + rotate_left(rotations[-1][i+1:]))\n",
    "    \n",
    "    return max([int(x) for x in rotations])\n",
    "    \n",
    "    \n",
    "max_rot(85821534)"
   ]
  },
  {
   "cell_type": "code",
   "execution_count": 12,
   "metadata": {
    "collapsed": false,
    "scrolled": true
   },
   "outputs": [
    {
     "ename": "NameError",
     "evalue": "name 'd' is not defined",
     "output_type": "error",
     "traceback": [
      "\u001b[0;31m---------------------------------------------------------------------------\u001b[0m",
      "\u001b[0;31mNameError\u001b[0m                                 Traceback (most recent call last)",
      "\u001b[0;32m<ipython-input-12-ba83ccdc3d02>\u001b[0m in \u001b[0;36m<module>\u001b[0;34m()\u001b[0m\n\u001b[0;32m----> 1\u001b[0;31m \u001b[0mv\u001b[0m \u001b[0;34m=\u001b[0m \u001b[0;34m[\u001b[0m\u001b[0md\u001b[0m \u001b[0;32mfor\u001b[0m \u001b[0mi\u001b[0m \u001b[0;32min\u001b[0m \u001b[0mrange\u001b[0m\u001b[0;34m(\u001b[0m\u001b[0mlen\u001b[0m\u001b[0;34m(\u001b[0m\u001b[0mstr\u001b[0m\u001b[0;34m(\u001b[0m\u001b[0;36m56789\u001b[0m\u001b[0;34m)\u001b[0m\u001b[0;34m)\u001b[0m\u001b[0;34m)\u001b[0m\u001b[0;34m]\u001b[0m\u001b[0;34m\u001b[0m\u001b[0m\n\u001b[0m",
      "\u001b[0;32m<ipython-input-12-ba83ccdc3d02>\u001b[0m in \u001b[0;36m<listcomp>\u001b[0;34m(.0)\u001b[0m\n\u001b[0;32m----> 1\u001b[0;31m \u001b[0mv\u001b[0m \u001b[0;34m=\u001b[0m \u001b[0;34m[\u001b[0m\u001b[0md\u001b[0m \u001b[0;32mfor\u001b[0m \u001b[0mi\u001b[0m \u001b[0;32min\u001b[0m \u001b[0mrange\u001b[0m\u001b[0;34m(\u001b[0m\u001b[0mlen\u001b[0m\u001b[0;34m(\u001b[0m\u001b[0mstr\u001b[0m\u001b[0;34m(\u001b[0m\u001b[0;36m56789\u001b[0m\u001b[0;34m)\u001b[0m\u001b[0;34m)\u001b[0m\u001b[0;34m)\u001b[0m\u001b[0;34m]\u001b[0m\u001b[0;34m\u001b[0m\u001b[0m\n\u001b[0m",
      "\u001b[0;31mNameError\u001b[0m: name 'd' is not defined"
     ]
    }
   ],
   "source": [
    "v = [d for i in range(len(str(56789)))]"
   ]
  },
  {
   "cell_type": "code",
   "execution_count": 27,
   "metadata": {
    "collapsed": false,
    "scrolled": true
   },
   "outputs": [
    {
     "data": {
      "text/plain": [
       "0"
      ]
     },
     "execution_count": 27,
     "metadata": {},
     "output_type": "execute_result"
    }
   ],
   "source": [
    "def cakes(recipe, available):\n",
    "    possible_num_cakes_per_ingredient = []\n",
    "    \n",
    "    for x in recipe:\n",
    "        if x not in available:\n",
    "            return 0\n",
    "        else:\n",
    "            possible_num_cakes_per_ingredient.append(available[x] // recipe[x])\n",
    "    \n",
    "    return min(possible_num_cakes_per_ingredient)\n",
    "\n",
    "\n",
    "recipe = {\"flour\": 500, \"sugar\": 200, \"eggs\": 1}\n",
    "available = {\"flour\": 1200, \"sugar\": 1200, \"eggs\": 5, \"milk\": 200}\n",
    "# test.assert_equals(cakes(recipe, available), 2, 'Wrong result for example #1')\n",
    "\n",
    "recipe = {\"apples\": 3, \"flour\": 300, \"sugar\": 150, \"milk\": 100, \"oil\": 100}\n",
    "available = {\"sugar\": 500, \"flour\": 2000, \"milk\": 2000}\n",
    "# test.assert_equals(cakes(recipe, available), 0, 'Wrong result for example #2')\n",
    "cakes(recipe, available)\n",
    "\n",
    "available = {\"sugar\": 500, \"flour\": 2000, \"milk\": 2000}\n",
    "available.get(\"apples\", 0)"
   ]
  },
  {
   "cell_type": "code",
   "execution_count": 6,
   "metadata": {
    "collapsed": false
   },
   "outputs": [
    {
     "data": {
      "text/plain": [
       "11"
      ]
     },
     "execution_count": 6,
     "metadata": {},
     "output_type": "execute_result"
    }
   ],
   "source": [
    "# nb_dig(25, 1):\n",
    "# the numbers of interest are\n",
    "# 1, 4, 9, 10, 11, 12, 13, 14, 19, 21 which squared are 1, 16, 81, 100, 121, 144, 169, 196, 361, 441\n",
    "# so there are 11 digits `1` for the squares of numbers between 0 and 25.\n",
    "\n",
    "def nb_dig(n, d):\n",
    "    k = [str(x**2) for x in range(n+1)]\n",
    "    \n",
    "    count = 0\n",
    "    \n",
    "    for x in k:\n",
    "        for i in range(len(x)):\n",
    "            if x[i] == str(d):\n",
    "                count += 1\n",
    "                \n",
    "    return count\n",
    "                \n",
    "            \n",
    "            \n",
    "nb_dig(25, 1)"
   ]
  },
  {
   "cell_type": "code",
   "execution_count": null,
   "metadata": {
    "collapsed": true
   },
   "outputs": [],
   "source": []
  }
 ],
 "metadata": {
  "anaconda-cloud": {},
  "kernelspec": {
   "display_name": "Python [conda root]",
   "language": "python",
   "name": "conda-root-py"
  },
  "language_info": {
   "codemirror_mode": {
    "name": "ipython",
    "version": 3
   },
   "file_extension": ".py",
   "mimetype": "text/x-python",
   "name": "python",
   "nbconvert_exporter": "python",
   "pygments_lexer": "ipython3",
   "version": "3.5.2"
  }
 },
 "nbformat": 4,
 "nbformat_minor": 0
}
