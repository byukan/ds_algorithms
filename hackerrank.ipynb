{
 "cells": [
  {
   "cell_type": "code",
   "execution_count": 122,
   "metadata": {
    "collapsed": false
   },
   "outputs": [
    {
     "name": "stdout",
     "output_type": "stream",
     "text": [
      "30.0\n"
     ]
    }
   ],
   "source": [
    "# n = int(input())\n",
    "# X = list(map(int, input().split()))\n",
    "# F = list(map(int, input().split()))\n",
    "\n",
    "n = 5\n",
    "X = [10, 40, 30, 50, 20]\n",
    "F = [1, 2, 3, 4, 5]\n",
    "\n",
    "# 6\n",
    "# 6 12 8 10 20 16\n",
    "# 5 6 7 8 9 10\n",
    "# 5\n",
    "# 10 40 30 50 20\n",
    "# 1 2 3 4 5\n",
    "\n",
    "\n",
    "def median(v):\n",
    "    n = len(v)\n",
    "    return (v[n//2]+v[n//2 - 1])/2 if n%2 == 0 else v[n//2]\n",
    "\n",
    "# construct S\n",
    "def construct(X, F):\n",
    "    S = []\n",
    "    for i, x in enumerate(X):\n",
    "        for j in range(F[i]):\n",
    "            S.append(x)\n",
    "    return S\n",
    "            \n",
    "            \n",
    "S = sorted(construct(X, F))\n",
    "m = len(S)\n",
    "q1 = median(S[:m//2])\n",
    "q3 = median(S[m//2:]) if m%2==0 else median(S[m//2+1:])\n",
    "# print(len(S))\n",
    "# print(q1, q3)\n",
    "# print(m//2)\n",
    "# print(S[22])\n",
    "# print(S)\n",
    "print(round(1.0*(q3-q1), 1))\n",
    "\n",
    "# print(len(S[m//2+1:]))\n",
    "# median(S[m//2+1:])"
   ]
  },
  {
   "cell_type": "code",
   "execution_count": 91,
   "metadata": {
    "collapsed": false,
    "scrolled": true
   },
   "outputs": [
    {
     "data": {
      "text/plain": [
       "9"
      ]
     },
     "execution_count": 91,
     "metadata": {},
     "output_type": "execute_result"
    }
   ],
   "source": [
    "def median(v):\n",
    "    n = len(v)\n",
    "    return int((v[n//2]+v[n//2 - 1])/2) if len(v)%2 == 0 else int(v[n//2])\n",
    "\n",
    "v = list(map(int, '6 12 8 10 20 16'.split()))\n",
    "median(v)"
   ]
  },
  {
   "cell_type": "code",
   "execution_count": null,
   "metadata": {
    "collapsed": true
   },
   "outputs": [],
   "source": [
    "# n = int(input())\n",
    "# v = list(map(int, input().split()))\n",
    "\n",
    "# q1 = int(v[n/3]) if n%2 == 0 else (v[n/3]+v[(n/3)-1])/2\n",
    "# q2 = (v[n/2]+v[(n/2)-1])/2 if n%2 == 0 else v[int(n/2)]\n",
    "# q3 = int(v[n-(n/3)]) if n%2 == 0 else (v[n-(n/3)]+v[n-(n/3)-1])/2\n",
    "\n",
    "# print(q1)\n",
    "# print(q2)\n",
    "# print(q3)"
   ]
  },
  {
   "cell_type": "code",
   "execution_count": 63,
   "metadata": {
    "collapsed": false,
    "scrolled": true
   },
   "outputs": [
    {
     "data": {
      "text/plain": [
       "5"
      ]
     },
     "execution_count": 63,
     "metadata": {},
     "output_type": "execute_result"
    }
   ],
   "source": [
    "int(5.59)"
   ]
  },
  {
   "cell_type": "code",
   "execution_count": 46,
   "metadata": {
    "collapsed": false,
    "scrolled": false
   },
   "outputs": [
    {
     "name": "stdout",
     "output_type": "stream",
     "text": [
      "5\n",
      "10 40 30 50 20\n",
      "14.1421356237\n"
     ]
    }
   ],
   "source": [
    "import numpy as np\n",
    "\n",
    "n = input()\n",
    "v = list(map(int, input().split()))\n",
    "\n",
    "print(np.std(v))"
   ]
  },
  {
   "cell_type": "code",
   "execution_count": 44,
   "metadata": {
    "collapsed": false,
    "scrolled": true
   },
   "outputs": [
    {
     "name": "stdout",
     "output_type": "stream",
     "text": [
      "1.4142135623730951\n"
     ]
    },
    {
     "data": {
      "text/plain": [
       "1.4142135623730951"
      ]
     },
     "execution_count": 44,
     "metadata": {},
     "output_type": "execute_result"
    }
   ],
   "source": [
    "import numpy as np\n",
    "v = [1, 2, 3, 4, 5]\n",
    "print(2**.5)\n",
    "np.std(v)"
   ]
  },
  {
   "cell_type": "code",
   "execution_count": 37,
   "metadata": {
    "collapsed": false,
    "scrolled": true
   },
   "outputs": [
    {
     "data": {
      "text/plain": [
       "[(10, 1), (40, 2), (30, 3), (50, 4), (20, 5)]"
      ]
     },
     "execution_count": 37,
     "metadata": {},
     "output_type": "execute_result"
    }
   ],
   "source": [
    "v = [*map(int, '10 40 30 50 20'.split())]\n",
    "w = [*map(int, '1 2 3 4 5'.split())]\n",
    "\n",
    "[*zip(v, w)]"
   ]
  },
  {
   "cell_type": "code",
   "execution_count": 8,
   "metadata": {
    "collapsed": false,
    "deletable": true,
    "editable": true,
    "scrolled": false
   },
   "outputs": [
    {
     "name": "stdout",
     "output_type": "stream",
     "text": [
      "43900.6\n",
      "44627.5\n",
      "4978\n"
     ]
    }
   ],
   "source": [
    "import numpy as np\n",
    "from scipy import stats\n",
    "\n",
    "n = 10\n",
    "v = list(map(int, '64630 11735 14216 99233 14470 4978 73429 38120 51135 67060'.split()))\n",
    "\n",
    "print(np.mean(v))\n",
    "print(np.median(v))\n",
    "print(int(stats.mode(v)[0]))"
   ]
  },
  {
   "cell_type": "code",
   "execution_count": 4,
   "metadata": {
    "collapsed": false,
    "deletable": true,
    "editable": true,
    "scrolled": false
   },
   "outputs": [
    {
     "name": "stdout",
     "output_type": "stream",
     "text": [
      "       #\n",
      "      ##\n",
      "     ###\n",
      "    ####\n",
      "   #####\n",
      "  ######\n"
     ]
    }
   ],
   "source": [
    "def StairCase(n):\n",
    "    for i in range(n):\n",
    "        leading_spaces = \" \" * (n - i + 1)\n",
    "        pound_symbols = \"#\" * (i + 1)\n",
    "        line = leading_spaces + pound_symbols\n",
    "        print(line)\n",
    "        \n",
    "        \n",
    "StairCase(6)"
   ]
  },
  {
   "cell_type": "code",
   "execution_count": 1,
   "metadata": {
    "collapsed": false,
    "deletable": true,
    "editable": true
   },
   "outputs": [
    {
     "name": "stdout",
     "output_type": "stream",
     "text": [
      "Not Weird\n"
     ]
    }
   ],
   "source": [
    "def f(n):\n",
    "    if n%2 == 1:\n",
    "        print(\"Weird\")\n",
    "    if n%2 == 0:\n",
    "        if n in range(2, 6):\n",
    "            print(\"Not Weird\")\n",
    "        if n in range(6, 21):\n",
    "            print(\"Weird\")\n",
    "        if n > 20:\n",
    "            print(\"Not Weird\")\n",
    "            \n",
    "f(24)"
   ]
  },
  {
   "cell_type": "code",
   "execution_count": null,
   "metadata": {
    "collapsed": true,
    "deletable": true,
    "editable": true
   },
   "outputs": [],
   "source": [
    "#!/bin/python3\n",
    "\n",
    "import sys\n",
    "\n",
    "time = input().strip()\n",
    "\n",
    "if time[-2:] == 'PM':\n",
    "    if time[:2] == '12':\n",
    "        print(time[:-2])\n",
    "    else:\n",
    "        print(str(int(time[:2]) + 12) + time[2:-2])\n",
    "else:  #AM\n",
    "    if time[:2] == '12':  # 12 AM\n",
    "        hour = int(time[:2]) - 12\n",
    "        if hour < 10:\n",
    "            hour = \"0\" + str(hour)\n",
    "        print(str(hour) + time[2:-2])\n",
    "    else:\n",
    "        print(time[:-2])"
   ]
  }
 ],
 "metadata": {
  "anaconda-cloud": {},
  "kernelspec": {
   "display_name": "Python [default]",
   "language": "python",
   "name": "python3"
  },
  "language_info": {
   "codemirror_mode": {
    "name": "ipython",
    "version": 3
   },
   "file_extension": ".py",
   "mimetype": "text/x-python",
   "name": "python",
   "nbconvert_exporter": "python",
   "pygments_lexer": "ipython3",
   "version": "3.5.2"
  }
 },
 "nbformat": 4,
 "nbformat_minor": 0
}
