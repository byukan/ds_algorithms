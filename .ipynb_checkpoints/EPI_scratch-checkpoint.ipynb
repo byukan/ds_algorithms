{
 "cells": [
  {
   "cell_type": "code",
   "execution_count": 3,
   "metadata": {},
   "outputs": [
    {
     "data": {
      "text/plain": [
       "[6, 0, 8, 2, 2, 0, 64, 11, 123, 5, 7, 3]"
      ]
     },
     "execution_count": 3,
     "metadata": {},
     "output_type": "execute_result"
    }
   ],
   "source": [
    "def even_odd(v):\n",
    "    \"\"\"\n",
    "    Rearrange numbers in a list s.t. evens appear before odds.  Use O(1) memory.\n",
    "    \"\"\"\n",
    "    # Keep track of indicies separating even, unclassified, and odd, then iterate through and swap.\n",
    "    next_even, next_odd = 0, len(v) - 1\n",
    "    while next_even < next_odd:\n",
    "        if v[next_even] % 2 == 0:\n",
    "            next_even += 1\n",
    "        else:\n",
    "            v[next_even], v[next_odd] = v[next_odd], v[next_even]\n",
    "            next_odd -= 1\n",
    "    return v\n",
    "    \n",
    "    \n",
    "v = [6, 3, 8, 2, 7, 5, 123, 64, 11, 0, 2, 0]\n",
    "even_odd(v)"
   ]
  },
  {
   "cell_type": "code",
   "execution_count": null,
   "metadata": {},
   "outputs": [],
   "source": []
  },
  {
   "cell_type": "code",
   "execution_count": null,
   "metadata": {},
   "outputs": [],
   "source": []
  },
  {
   "cell_type": "code",
   "execution_count": null,
   "metadata": {},
   "outputs": [],
   "source": []
  },
  {
   "cell_type": "code",
   "execution_count": null,
   "metadata": {},
   "outputs": [],
   "source": []
  },
  {
   "cell_type": "code",
   "execution_count": null,
   "metadata": {},
   "outputs": [],
   "source": []
  },
  {
   "cell_type": "code",
   "execution_count": null,
   "metadata": {},
   "outputs": [],
   "source": []
  },
  {
   "cell_type": "code",
   "execution_count": null,
   "metadata": {},
   "outputs": [],
   "source": []
  },
  {
   "cell_type": "code",
   "execution_count": null,
   "metadata": {},
   "outputs": [],
   "source": []
  },
  {
   "cell_type": "code",
   "execution_count": null,
   "metadata": {},
   "outputs": [],
   "source": []
  },
  {
   "cell_type": "code",
   "execution_count": null,
   "metadata": {},
   "outputs": [],
   "source": []
  },
  {
   "cell_type": "code",
   "execution_count": null,
   "metadata": {},
   "outputs": [],
   "source": []
  },
  {
   "cell_type": "code",
   "execution_count": null,
   "metadata": {},
   "outputs": [],
   "source": []
  },
  {
   "cell_type": "code",
   "execution_count": null,
   "metadata": {},
   "outputs": [],
   "source": []
  },
  {
   "cell_type": "code",
   "execution_count": null,
   "metadata": {},
   "outputs": [],
   "source": []
  },
  {
   "cell_type": "code",
   "execution_count": 10,
   "metadata": {},
   "outputs": [],
   "source": [
    "# this can be written as a decorator\n",
    "\n",
    "import timeit\n",
    "\n",
    "def time_function(f):\n",
    "    \"\"\"\n",
    "    Print how long it takes a function to compute.\n",
    "    \"\"\"\n",
    "    \n",
    "    begin = timeit.default_timer()\n",
    "    result = f()\n",
    "    end = timeit.default_timer()\n",
    "    \n",
    "    print(\"Function call took \", str(end-begin), \" seconds to execute.\")\n",
    "    return result"
   ]
  },
  {
   "cell_type": "code",
   "execution_count": 9,
   "metadata": {},
   "outputs": [
    {
     "name": "stdout",
     "output_type": "stream",
     "text": [
      "0.4776545411268497\n",
      "1.416292993933382\n",
      "1.4409691432397826\n",
      "1.582138690684979\n",
      "1.7508421285504177\n"
     ]
    },
    {
     "name": "stderr",
     "output_type": "stream",
     "text": [
      "/usr/local/anaconda3/lib/python3.6/site-packages/ipykernel_launcher.py:11: DeprecationWarning: generator 'random_iterator' raised StopIteration\n",
      "  # This is added back by InteractiveShellApp.init_path()\n"
     ]
    }
   ],
   "source": [
    "import random\n",
    "\n",
    "def random_iterator(limit):\n",
    "    offset = 0\n",
    "    while True:\n",
    "        offset += random.random()\n",
    "        if offset > limit:\n",
    "            raise StopIteration()\n",
    "        yield offset\n",
    "        \n",
    "for x in random_iterator(2):\n",
    "    print(x)"
   ]
  },
  {
   "cell_type": "code",
   "execution_count": 5,
   "metadata": {},
   "outputs": [
    {
     "name": "stdout",
     "output_type": "stream",
     "text": [
      "7\n"
     ]
    }
   ],
   "source": [
    "def create_increment_function(x):\n",
    "    return lambda y: y + x\n",
    "\n",
    "increment_by_i = [create_increment_function(i) for i in range(10)]\n",
    "\n",
    "print(increment_by_i[3](4))"
   ]
  },
  {
   "cell_type": "code",
   "execution_count": 4,
   "metadata": {},
   "outputs": [
    {
     "name": "stdout",
     "output_type": "stream",
     "text": [
      "13\n"
     ]
    }
   ],
   "source": [
    "increment_by_i = [lambda x: x + i for i in range(10)]\n",
    "\n",
    "print(increment_by_i[3](4))"
   ]
  },
  {
   "cell_type": "code",
   "execution_count": 24,
   "metadata": {},
   "outputs": [
    {
     "data": {
      "text/plain": [
       "1479"
      ]
     },
     "execution_count": 24,
     "metadata": {},
     "output_type": "execute_result"
    }
   ],
   "source": [
    "import itertools\n",
    "\n",
    "def find_maximum_subarray(A):\n",
    "    min_sum = max_sum = 0\n",
    "    for running_sum in itertools.accumulate(A):\n",
    "        min_sum = min(min_sum, running_sum)\n",
    "        max_sum = max(max_sum, running_sum - min_sum)\n",
    "    return max_sum\n",
    "\n",
    "find_maximum_subarray([904, 40, 523, 12, -335, -385, -124, 481, -31])"
   ]
  },
  {
   "cell_type": "code",
   "execution_count": 14,
   "metadata": {
    "scrolled": true
   },
   "outputs": [
    {
     "name": "stdout",
     "output_type": "stream",
     "text": [
      "0 0\n",
      "1 1\n",
      "2 1\n",
      "3 2\n",
      "4 3\n",
      "5 5\n",
      "6 8\n",
      "7 13\n",
      "8 21\n",
      "9 34\n"
     ]
    }
   ],
   "source": [
    "def fib(n):\n",
    "    if n <= 1:\n",
    "        return n\n",
    "    \n",
    "    f_2, f_1 = 0, 1\n",
    "    for _ in range(1, n):\n",
    "        f = f_2 + f_1\n",
    "        f_2, f_1 = f_1, f\n",
    "    \n",
    "    return f\n",
    "\n",
    "for i in range(10):\n",
    "    print(i, fib(i))"
   ]
  },
  {
   "cell_type": "code",
   "execution_count": 98,
   "metadata": {},
   "outputs": [
    {
     "name": "stdout",
     "output_type": "stream",
     "text": [
      "2 3 5 7 11 13 17 19 23 29 31 37 41 43 47 53 59 61 67 71 73 79 83 89 97 None\n"
     ]
    }
   ],
   "source": [
    "def sieve2(n):\n",
    "    for i in range(2, n):\n",
    "        c = 0\n",
    "        for j in range(2, i):\n",
    "            if i%j == 0:\n",
    "                c += 1\n",
    "        if c == 0:\n",
    "            print(i, end=\" \")\n",
    "\n",
    "\n",
    "# print(sieve(100))\n",
    "print(sieve2(100))"
   ]
  },
  {
   "cell_type": "code",
   "execution_count": 96,
   "metadata": {},
   "outputs": [],
   "source": [
    "class LruCashe:\n",
    "    def __init__(self, capacity):\n",
    "        self._isbn_price_table = collections.OrderedDict()\n",
    "        self._capacity = capacity\n",
    "        \n",
    "    def lookup(self, isbn):\n",
    "        \"\"\"\n",
    "        if isbn is present, update table with most recently used price\n",
    "        \"\"\"\n",
    "        if isbn not in self._isbn_price_table:\n",
    "            return -1\n",
    "        price = self._isbn_price_table.pop(isbn)\n",
    "        self._isbn_price_table[isbn] = price\n",
    "        \n",
    "        return price\n",
    "    \n",
    "    def insert(self, isbn, price):\n",
    "        \"\"\"\n",
    "        we add the value for key only if key is not present - we don't update existing values\n",
    "        \"\"\"\n",
    "        if isbn in self._isbn_price_table:\n",
    "            price = self._isbn_price_table.pop(isbn)\n",
    "        elif len(self._isbn_price_table) == self._capacity:\n",
    "            self._isbn_price_table.popitem(last=False)\n",
    "            \n",
    "        self._isbn_price_table[isbn] = price\n",
    "        \n",
    "    def erase(self, isbn):\n",
    "        return self._isbn_price_table.pop(isbn, None) is not None"
   ]
  },
  {
   "cell_type": "code",
   "execution_count": 95,
   "metadata": {
    "scrolled": false
   },
   "outputs": [
    {
     "name": "stdout",
     "output_type": "stream",
     "text": [
      "4 7\n",
      "7 4\n",
      "4 3\n",
      "3 1\n",
      "1 0\n"
     ]
    },
    {
     "data": {
      "text/plain": [
       "1"
      ]
     },
     "execution_count": 95,
     "metadata": {},
     "output_type": "execute_result"
    }
   ],
   "source": [
    "def gcd(x, y):\n",
    "    print(x, y)\n",
    "    if y == 0:\n",
    "        return x\n",
    "    else: return gcd(y, x%y)\n",
    "\n",
    "gcd(4, 7)"
   ]
  },
  {
   "cell_type": "code",
   "execution_count": null,
   "metadata": {},
   "outputs": [],
   "source": [
    "class ContactList:\n",
    "    def __init__(self, names):\n",
    "        self.names = names\n",
    "    \n",
    "    def __hash__(self):\n",
    "        # Conceptually we want to hash a set of names.\n",
    "        # Since the set type is mutable, it cannot be hashed.  Therefore, we use frozenset.\n",
    "        return hash(frozenset(self.names))\n",
    "    \n",
    "    def __eq__(self, other):\n",
    "        return set(self.names) == set(other.names)\n",
    "    \n",
    "    def merge_contact_lists(contacts):\n",
    "        return list(set(contacts))"
   ]
  },
  {
   "cell_type": "code",
   "execution_count": 68,
   "metadata": {},
   "outputs": [],
   "source": [
    "def find_anagrams(dictionary):\n",
    "    sorted_string_to_anagrams = collections.defaultdict(list)\n",
    "    \n",
    "    for x in dictionary:\n",
    "        sorted_string_to_anagrams[''.join(sorted(x))] = x\n",
    "    \n",
    "    return [group for group in sorted_string_to_anagrams.values() if len(group) > 1]"
   ]
  },
  {
   "cell_type": "code",
   "execution_count": 62,
   "metadata": {},
   "outputs": [],
   "source": [
    "import functools\n",
    "\n",
    "def string_hash(s, modulus):\n",
    "    MULT = 997\n",
    "    return functools.reduce(lambda v, c: (v * MULT + ord(c)) % modulus, s, 0)"
   ]
  },
  {
   "cell_type": "code",
   "execution_count": 60,
   "metadata": {},
   "outputs": [],
   "source": [
    "import collections\n",
    "Student = collections.namedtuple('Student', ('name', 'grade_point_average'))\n",
    "\n",
    "def comp_gpa(student):\n",
    "    return (-student.grade_point_average, student.name)\n",
    "\n",
    "def search_student(students, target, comp_gpa):\n",
    "    i = bisect.bisect_left([comp_gpa(s) for s in students], comp_gpa(target))\n",
    "    return 0 <= i < len(students) and students[i] == target"
   ]
  },
  {
   "cell_type": "code",
   "execution_count": 55,
   "metadata": {},
   "outputs": [],
   "source": [
    "def binary_search(x, v):\n",
    "    low, high = 0, len(v) - 1\n",
    "    \n",
    "    while low <= high:\n",
    "        mid = low + (high - low) // 2\n",
    "        if v[mid] > x:\n",
    "            # search lhs\n",
    "            high = mid - 1\n",
    "        elif v[mid] < x:\n",
    "            # search rhs\n",
    "            low = mid + 1\n",
    "        else:\n",
    "            return mid\n",
    "    return 'not found'"
   ]
  },
  {
   "cell_type": "code",
   "execution_count": 54,
   "metadata": {},
   "outputs": [],
   "source": [
    "import itertools\n",
    "\n",
    "def top_k(k, steam):\n",
    "    # entries are compared by their lengths\n",
    "    min_heap = [(len(s), s) for s in itertools.islice(stream, k)]\n",
    "    heapq.heapify(min_heap)\n",
    "    \n",
    "    for next_string in stream:\n",
    "        # push next_string and pop the shortest string in min_heap\n",
    "        heapq.heappushpop(min_heap, (len(next_string), next_string))\n",
    "    return [p[1] for p in heapq.nsmallest(k, min_heap)]"
   ]
  },
  {
   "cell_type": "code",
   "execution_count": 40,
   "metadata": {},
   "outputs": [],
   "source": [
    "def tree_traversal(root):\n",
    "    if root:\n",
    "        print('preorder: %d' % root.data)\n",
    "        tree_traversal(root.left)\n",
    "        print('inorder: %d' % root.data)\n",
    "        tree_traversal(root.right)\n",
    "        print('postorder: %d' % root.data)"
   ]
  },
  {
   "cell_type": "code",
   "execution_count": 36,
   "metadata": {},
   "outputs": [],
   "source": [
    "def print_linked_list_in_reverse(head):\n",
    "    nodes = []\n",
    "    while head:\n",
    "        nodes.append(head.data)\n",
    "        head = head.next\n",
    "    while nodes:\n",
    "        print(nodes.pop())"
   ]
  },
  {
   "cell_type": "code",
   "execution_count": 35,
   "metadata": {},
   "outputs": [],
   "source": [
    "class ListNode:\n",
    "    def __init__(self, data=0, next=None):\n",
    "        self.data = data\n",
    "        self.next = next\n",
    "    \n",
    "def search_list(L, key):\n",
    "    while L and L.data != key:\n",
    "        L = L.next\n",
    "    return L\n",
    "    \n",
    "# insert new_node after node\n",
    "def insert_after(node, new_node):\n",
    "    new_node.next = node.next\n",
    "    node.next = new_nodet\n",
    "    \n",
    "def delate_after(node):\n",
    "    \"\"\"\n",
    "    assume node is not a tail\n",
    "    \"\"\"\n",
    "    node.next = node.next.next"
   ]
  },
  {
   "cell_type": "code",
   "execution_count": 34,
   "metadata": {
    "scrolled": false
   },
   "outputs": [
    {
     "data": {
      "text/plain": [
       "True"
      ]
     },
     "execution_count": 34,
     "metadata": {},
     "output_type": "execute_result"
    }
   ],
   "source": [
    "def is_palindromic(s):\n",
    "    # Note that s[~i] for i in [0, len(s) - 1] is s[-(i + 1)]\n",
    "    return all(s[i] == s[~i] for i in range(len(s) // 2))\n",
    "\n",
    "is_palindromic('racecar')"
   ]
  },
  {
   "cell_type": "code",
   "execution_count": 1,
   "metadata": {},
   "outputs": [],
   "source": [
    "def next_even_next_odd(A):\n",
    "    next_even, next_odd = 0, len(A) - 1\n",
    "    \n",
    "    while next_even < next_odd:\n",
    "        if A[next_even] % 2 == 0:\n",
    "            next_even += 1\n",
    "        else:\n",
    "            A[next_even], A[next_odd] = A[next_odd], A[next_even]\n",
    "            next_odd -= 1"
   ]
  }
 ],
 "metadata": {
  "kernelspec": {
   "display_name": "Python 3",
   "language": "python",
   "name": "python3"
  },
  "language_info": {
   "codemirror_mode": {
    "name": "ipython",
    "version": 3
   },
   "file_extension": ".py",
   "mimetype": "text/x-python",
   "name": "python",
   "nbconvert_exporter": "python",
   "pygments_lexer": "ipython3",
   "version": "3.7.3"
  }
 },
 "nbformat": 4,
 "nbformat_minor": 2
}
