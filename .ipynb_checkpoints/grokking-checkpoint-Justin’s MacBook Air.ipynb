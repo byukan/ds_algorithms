{
 "cells": [
  {
   "cell_type": "code",
   "execution_count": 2,
   "metadata": {
    "collapsed": false
   },
   "outputs": [
    {
     "data": {
      "text/plain": [
       "{'kfive', 'kfour', 'kthree', 'ktwo'}"
      ]
     },
     "execution_count": 2,
     "metadata": {},
     "output_type": "execute_result"
    }
   ],
   "source": [
    "# set-covering problem\n",
    "\n",
    "states_needed = set(['mt', 'wa', 'or', 'id', 'nv', 'ut', 'ca', 'az'])\n",
    "\n",
    "stations = {}\n",
    "stations[\"kone\"] = set([\"id\", \"nv\", \"ut\"])\n",
    "stations[\"ktwo\"] = set([\"wa\", \"id\", \"mt\"])\n",
    "stations[\"kthree\"] = set([\"or\", \"nv\", \"ca\"])\n",
    "stations[\"kfour\"] = set([\"nv\", \"ut\"])\n",
    "stations[\"kfive\"] = set([\"ca\", \"az\"])\n",
    "\n",
    "final_stations = set()\n",
    "\n",
    "\n",
    "# while states_needed:\n",
    "#     best_station = None\n",
    "#     states_covered = set()\n",
    "\n",
    "#     for station, states in stations.items():\n",
    "#         # covered is the set of uncovered states that this station covers\n",
    "#         covered = states_needed & states  # set intersection\n",
    "#         if len(covered) > len(states_covered):  # if this station covers more states than the current best_station\n",
    "#             best_station = station\n",
    "#             states_covered = covered\n",
    "            \n",
    "#     states_needed -= states_covered\n",
    "#     final_stations.add(best_station)        \n",
    "    \n",
    "    \n",
    "while states_needed:\n",
    "    best_station = None\n",
    "    states_covered = set()\n",
    "    for station, states in stations.items():\n",
    "        covered = states_needed & states\n",
    "        if len(covered) > len(states_covered):\n",
    "            best_station = station\n",
    "            states_covered = covered\n",
    "    states_needed -= states_covered\n",
    "    final_stations.add(best_station)\n",
    "    \n",
    "    \n",
    "    \n",
    "final_stations"
   ]
  },
  {
   "cell_type": "code",
   "execution_count": 9,
   "metadata": {
    "collapsed": false
   },
   "outputs": [
    {
     "data": {
      "text/plain": [
       "{'a': 5, 'b': 2, 'fin': 6}"
      ]
     },
     "execution_count": 9,
     "metadata": {},
     "output_type": "execute_result"
    }
   ],
   "source": [
    "# Dijkstra's algorithm\n",
    "\n",
    "graph = {}\n",
    "graph['start'] = {}\n",
    "graph['start']['a'] = 6\n",
    "graph['start']['b'] = 2\n",
    "graph[\"a\"] = {}\n",
    "graph[\"a\"][\"fin\"] = 1\n",
    "graph[\"b\"] = {}\n",
    "graph[\"b\"][\"a\"] = 3\n",
    "graph[\"b\"][\"fin\"] = 5\n",
    "graph[\"fin\"] = {}\n",
    "\n",
    "infinity = float('inf')\n",
    "costs = {}\n",
    "costs[\"a\"] = 6\n",
    "costs[\"b\"] = 2\n",
    "costs['fin'] = infinity\n",
    "\n",
    "parents = {}\n",
    "parents[\"a\"] = \"start\"\n",
    "parents[\"b\"] = \"start\"\n",
    "parents[\"fin\"] = None\n",
    "\n",
    "processed = []\n",
    "\n",
    "\n",
    "def find_lowest_cost_node(costs, proceseed):\n",
    "    min_cost = float('inf')\n",
    "    lowest_cost_node = None\n",
    "    \n",
    "    # loop through each node in costs dictionary\n",
    "    for x in costs:\n",
    "        if costs[x] < min_cost and x not in proceseed:  # check whether cost is lower than min_cost\n",
    "            min_cost = costs[x]\n",
    "            lowest_cost_node = x\n",
    "    return lowest_cost_node\n",
    "\n",
    "\n",
    "node = find_lowest_cost_node(costs, processed)  # find lowest cost node that you haven't processed yet\n",
    "while node is not None:  # if you've processed all the nodes this \n",
    "    cost = costs[node]\n",
    "    neighbors = graph[node]\n",
    "    for n in neighbors.keys():\n",
    "        new_cost = cost + neighbors[n]\n",
    "        if costs[n] > new_cost:\n",
    "            costs[n] = new_cost\n",
    "            parents[n] = node\n",
    "    processed.append(node)\n",
    "    node = find_lowest_cost_node(costs, processed)\n",
    "    \n",
    "    \n",
    "costs"
   ]
  },
  {
   "cell_type": "code",
   "execution_count": 10,
   "metadata": {
    "collapsed": false
   },
   "outputs": [
    {
     "data": {
      "text/plain": [
       "{'a': 'b', 'b': 'start', 'fin': 'a'}"
      ]
     },
     "execution_count": 10,
     "metadata": {},
     "output_type": "execute_result"
    }
   ],
   "source": [
    "parents"
   ]
  },
  {
   "cell_type": "code",
   "execution_count": 2,
   "metadata": {
    "collapsed": false
   },
   "outputs": [
    {
     "name": "stdout",
     "output_type": "stream",
     "text": [
      "thom is a mango seller!\n"
     ]
    },
    {
     "data": {
      "text/plain": [
       "True"
      ]
     },
     "execution_count": 2,
     "metadata": {},
     "output_type": "execute_result"
    }
   ],
   "source": [
    "graph = {}\n",
    "graph[\"you\"] = [\"alice\", \"bob\", \"claire\"]\n",
    "graph[\"bob\"] = [\"anuj\", \"peggy\"]\n",
    "graph[\"alice\"] = [\"peggy\"]\n",
    "graph[\"claire\"] = [\"thom\", \"jonny\"]\n",
    "graph[\"anuj\"] = []\n",
    "graph[\"peggy\"] = []\n",
    "graph[\"thom\"] = []\n",
    "graph[\"jonny\"] = []\n",
    "\n",
    "from collections import deque\n",
    "\n",
    "def breadth_first_search(graph, root_person):\n",
    "    search_queue = deque()\n",
    "    search_queue += graph[root_person]  # pass in root node\n",
    "    searched = []\n",
    "    \n",
    "    while search_queue:\n",
    "        person = search_queue.popleft()\n",
    "        \n",
    "        if not person in searched:\n",
    "            # check if person is mango seller\n",
    "            if person[-1] == 'm':\n",
    "                print(person, \"is a mango seller!\")\n",
    "                return True\n",
    "            else:\n",
    "                search_queue += graph[person]\n",
    "                searched.append(person)\n",
    "    return False\n",
    "\n",
    "\n",
    "breadth_first_search(graph, \"you\")"
   ]
  },
  {
   "cell_type": "code",
   "execution_count": 18,
   "metadata": {
    "collapsed": false
   },
   "outputs": [
    {
     "name": "stdout",
     "output_type": "stream",
     "text": [
      "let them vote.\n",
      "let them vote.\n",
      "kick them out!\n"
     ]
    }
   ],
   "source": [
    "voted = {}\n",
    "\n",
    "def check_voter(name):\n",
    "#     if voted[name]:  # in dictionary\n",
    "    if voted.get(name):\n",
    "        print(\"kick them out!\")\n",
    "    else:\n",
    "        voted[name] = True\n",
    "        print(\"let them vote.\")\n",
    "        \n",
    "check_voter('tom')\n",
    "check_voter('mike')\n",
    "check_voter('tom')"
   ]
  },
  {
   "cell_type": "code",
   "execution_count": 12,
   "metadata": {
    "collapsed": false
   },
   "outputs": [
    {
     "data": {
      "text/plain": [
       "[-3, 2, 3, 3, 3, 4, 6, 6, 11]"
      ]
     },
     "execution_count": 12,
     "metadata": {},
     "output_type": "execute_result"
    }
   ],
   "source": [
    "# quicksort\n",
    "\n",
    "def quicksort(v):\n",
    "    if len(v) < 2:\n",
    "        return v\n",
    "    else:\n",
    "        pivot = v[0]\n",
    "        lhs = [x for x in v[1:] if x <= pivot]\n",
    "        rhs = [x for x in v[1:] if x > pivot]\n",
    "        return quicksort(lhs) + [pivot] + quicksort(rhs)\n",
    "    \n",
    "v = [4, 3, -3, 6, 3, 6, 3, 11, 2]\n",
    "quicksort(v)"
   ]
  },
  {
   "cell_type": "code",
   "execution_count": 6,
   "metadata": {
    "collapsed": false
   },
   "outputs": [
    {
     "data": {
      "text/plain": [
       "11"
      ]
     },
     "execution_count": 6,
     "metadata": {},
     "output_type": "execute_result"
    }
   ],
   "source": [
    "# find maximum number in a list\n",
    "\n",
    "def max(v):\n",
    "    # base case - length 1\n",
    "    if len(v) == 1:\n",
    "        return v[0]\n",
    "    if len(v) == 2:\n",
    "        return v[0] if v[0] > v[1] else v[1]\n",
    "    else:\n",
    "        return v[0] if v[0] > max(v[1:]) else max(v[1:])\n",
    "    \n",
    "    \n",
    "v = [4, 3, -3, 6, 3, 6, 3, 11, 2]\n",
    "max(v)"
   ]
  },
  {
   "cell_type": "code",
   "execution_count": 1,
   "metadata": {
    "collapsed": false
   },
   "outputs": [],
   "source": [
    "# binary search with recursion\n",
    "\n",
    "def binary_search(n, v):\n",
    "    # base case is empty list\n",
    "    if len(v) == 1:  # list with one item\n",
    "        if n == v[0]:  # if it matches, you've found it\n",
    "            return v[0]\n",
    "        else:\n",
    "            return False\n",
    "    else:\n",
    "        # split in half and call binary search on the proper half\n",
    "        mid = int(len(v)/2)\n",
    "        if n < v[mid]:\n",
    "            return binary_search(n, v[:mid])\n",
    "        if n > v[mid]:\n",
    "            return binary_search(n, v[mid+1:])\n",
    "        \n",
    "v = [-2, 0, 1, 5, 6, 8, 33, 40]\n",
    "binary_search(6, v)"
   ]
  },
  {
   "cell_type": "code",
   "execution_count": 114,
   "metadata": {
    "collapsed": false
   },
   "outputs": [
    {
     "data": {
      "text/plain": [
       "3"
      ]
     },
     "execution_count": 114,
     "metadata": {},
     "output_type": "execute_result"
    }
   ],
   "source": [
    "def binary_search(n,v):\n",
    "    l = 0\n",
    "    h = len(v) - 1\n",
    "    while l <= h:\n",
    "        mid = int((h+l)/2)\n",
    "        if v[mid] < n:\n",
    "            l = mid + 1\n",
    "        if v[mid] > n:\n",
    "            h = mid - 1\n",
    "        if v[mid] == n:\n",
    "            return mid\n",
    "    return False\n",
    "        \n",
    "v = [-2, 0, 1, 5, 6, 8, 33, 40]\n",
    "binary_search(5, v)"
   ]
  },
  {
   "cell_type": "code",
   "execution_count": 98,
   "metadata": {
    "collapsed": false
   },
   "outputs": [
    {
     "data": {
      "text/plain": [
       "11"
      ]
     },
     "execution_count": 98,
     "metadata": {},
     "output_type": "execute_result"
    }
   ],
   "source": [
    "def max(list):\n",
    "    if len(list) == 1:\n",
    "        return list[0]\n",
    "    if len(list) == 2:\n",
    "        return list[0] if list[0] > list[1] else list[1]\n",
    "#     sub_max = max(list[1:])\n",
    "    return list[0] if list[0] > max(list[1:]) else max(list[1:])\n",
    "\n",
    "max([4, 3, -3, 6, 3, 6, 3, 11, 2])"
   ]
  },
  {
   "cell_type": "code",
   "execution_count": 70,
   "metadata": {
    "collapsed": false
   },
   "outputs": [
    {
     "data": {
      "text/plain": [
       "6"
      ]
     },
     "execution_count": 70,
     "metadata": {},
     "output_type": "execute_result"
    }
   ],
   "source": [
    "def my_sum(v):\n",
    "#     if len(v) == 1:\n",
    "    if v == []:\n",
    "        return 0\n",
    "#     else:\n",
    "    return v[0] + my_sum(v[1:])\n",
    "\n",
    "v = [1, 2, 3]\n",
    "my_sum(v)"
   ]
  },
  {
   "cell_type": "code",
   "execution_count": 69,
   "metadata": {
    "collapsed": false
   },
   "outputs": [
    {
     "data": {
      "text/plain": [
       "(432, 5, 400)"
      ]
     },
     "execution_count": 69,
     "metadata": {},
     "output_type": "execute_result"
    }
   ],
   "source": [
    "def my_len(v):\n",
    "    if v == []:\n",
    "        return 0\n",
    "    else:\n",
    "        return 1 + len(v[1:])\n",
    "    \n",
    "    \n",
    "def my_max(v):\n",
    "    t = v[0]\n",
    "    for x in v:\n",
    "        if x > t:\n",
    "            t = x\n",
    "    return t\n",
    "\n",
    "v = [400, 2, 3, 4, 23]\n",
    "my_sum(v), my_len(v), my_max(v)"
   ]
  },
  {
   "cell_type": "code",
   "execution_count": 46,
   "metadata": {
    "collapsed": false,
    "scrolled": true
   },
   "outputs": [
    {
     "data": {
      "text/plain": [
       "[400, 3, 4, 23]"
      ]
     },
     "execution_count": 46,
     "metadata": {},
     "output_type": "execute_result"
    }
   ],
   "source": [
    "v.remove(v[1])\n",
    "v"
   ]
  },
  {
   "cell_type": "code",
   "execution_count": 90,
   "metadata": {
    "collapsed": false
   },
   "outputs": [
    {
     "name": "stdout",
     "output_type": "stream",
     "text": [
      "-5\n"
     ]
    },
    {
     "data": {
      "text/plain": [
       "[2, 0, 1, 2, 5, -2]"
      ]
     },
     "execution_count": 90,
     "metadata": {},
     "output_type": "execute_result"
    }
   ],
   "source": [
    "def max(v):\n",
    "    if len(v) == 2:\n",
    "        return v[0] if v[0] > v[1] else v[1]\n",
    "    return v[0] if v[0] > max(v[1:]) else max\n",
    "\n",
    "\n",
    "# def my_max_rec(v):\n",
    "#     if len(v) == 1:\n",
    "#         return v[0]\n",
    "#     else:\n",
    "#         if v[0] > v[1]:\n",
    "#             return my_max_rec(list(v[0]) + list(v.remove(v[1])))\n",
    "#         else:\n",
    "#             return my_max_rec(v[1:])\n",
    "        \n",
    "v = [2, -5, 0, 1, 2, 5, -2]\n",
    "print(v.pop(1))\n",
    "v"
   ]
  },
  {
   "cell_type": "code",
   "execution_count": 43,
   "metadata": {
    "collapsed": false
   },
   "outputs": [
    {
     "data": {
      "text/plain": [
       "[-8, -1, 0, 1, 3, 5, 7, 20]"
      ]
     },
     "execution_count": 43,
     "metadata": {},
     "output_type": "execute_result"
    }
   ],
   "source": [
    "import numpy as np\n",
    "\n",
    "# selection sort\n",
    "v = [5, 3, -1, 7, 0, 1, 20, -8]\n",
    "\n",
    "# np.argmin(v)\n",
    "\n",
    "def argmin(v):\n",
    "    min = v[0]\n",
    "    argmin = 0\n",
    "    for i in range(1, len(v)):\n",
    "        if v[i] < min:\n",
    "            min = v[i]\n",
    "            argmin = i\n",
    "    return argmin\n",
    "\n",
    "\n",
    "# argmin(v)\n",
    "\n",
    "# for i in range(2):\n",
    "#     print(v.pop(argmin(v)))\n",
    "#     print(v)\n",
    "\n",
    "def selection_sort(v):\n",
    "    t = []\n",
    "    for i in range(len(v)):\n",
    "        t.append(v.pop(argmin(v)))\n",
    "#         v.pop(argmin(v))  # pop removes at the given index and returns the dereferenced element\n",
    "    return t\n",
    "\n",
    "selection_sort(v)"
   ]
  },
  {
   "cell_type": "code",
   "execution_count": 22,
   "metadata": {
    "collapsed": false,
    "scrolled": false
   },
   "outputs": [
    {
     "name": "stdout",
     "output_type": "stream",
     "text": [
      "1\n",
      "None\n"
     ]
    }
   ],
   "source": [
    "# binary search\n",
    "\n",
    "def binary_search(n, v):\n",
    "    \"\"\"\n",
    "    returns index of n in sorted array v, or False if not found\n",
    "    \"\"\"\n",
    "    low = 0\n",
    "    high = len(v) - 1\n",
    "    \n",
    "    while low <= high:\n",
    "        mid = int((low+high)/2)\n",
    "#         mid = int((high-low)/2) + low\n",
    "        \n",
    "        # left\n",
    "        if n < v[mid]:\n",
    "            high = mid-1  # update mid to high\n",
    "        elif n > v[mid]:\n",
    "            low = mid+1  # update mid to low\n",
    "        elif n == v[mid]:\n",
    "            return mid\n",
    "    \n",
    "#     print(\"not found\")\n",
    "    return None\n",
    "     \n",
    "# of course it doesn't work for a non-sorted list\n",
    "# my_list = [3, 2, 3, 4, -1, 500]\n",
    "# for x in my_list:\n",
    "# #     print(x)\n",
    "#     print(binary_search(x, my_list))\n",
    "\n",
    "\n",
    "my_list = [1, 3, 5, 7, 9]\n",
    "print(binary_search(3, my_list))\n",
    "print(binary_search(-1, my_list))"
   ]
  },
  {
   "cell_type": "code",
   "execution_count": 13,
   "metadata": {
    "collapsed": false
   },
   "outputs": [
    {
     "data": {
      "text/plain": [
       "\"\\n    This attempt runs into issues once v is reduced to an empty list, and you don't need recursion for binary search.\\n    Instead, keep two variables, low and high, to index the subarray.\\n\""
      ]
     },
     "execution_count": 13,
     "metadata": {},
     "output_type": "execute_result"
    }
   ],
   "source": [
    "\"\"\"\n",
    "    This attempt runs into issues once v is reduced to an empty list, and you don't need recursion for binary search.\n",
    "    Instead, keep two variables, low and high, to index the subarray.\n",
    "\"\"\"\n",
    "#     i = int(len(v)/2)\n",
    "# #     if n == v[i]:\n",
    "# #         return True\n",
    "#     print(\"i: \", i)\n",
    "    \n",
    "#     # found\n",
    "#     print(i, v)\n",
    "#     if n == v[i]:\n",
    "#         return True\n",
    "#     # left\n",
    "#     elif n < v[i]:\n",
    "#         print(\"left\")\n",
    "#         v = v[:i]  # check the left half\n",
    "#         binary_search(n, v)\n",
    "#     # right\n",
    "#     elif n > v[i]:\n",
    "#         print(\"right\")\n",
    "#         v = v[i+1:]\n",
    "#         print(i, v)\n",
    "#         binary_search(n, v)\n",
    "#     else: \n",
    "#         return False"
   ]
  },
  {
   "cell_type": "code",
   "execution_count": null,
   "metadata": {
    "collapsed": true
   },
   "outputs": [],
   "source": []
  }
 ],
 "metadata": {
  "anaconda-cloud": {},
  "kernelspec": {
   "display_name": "Python [conda root]",
   "language": "python",
   "name": "conda-root-py"
  },
  "language_info": {
   "codemirror_mode": {
    "name": "ipython",
    "version": 3
   },
   "file_extension": ".py",
   "mimetype": "text/x-python",
   "name": "python",
   "nbconvert_exporter": "python",
   "pygments_lexer": "ipython3",
   "version": "3.5.2"
  }
 },
 "nbformat": 4,
 "nbformat_minor": 1
}
