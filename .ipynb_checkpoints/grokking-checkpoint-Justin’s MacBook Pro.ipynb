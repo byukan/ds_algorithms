{
 "cells": [
  {
   "cell_type": "code",
   "execution_count": 26,
   "metadata": {
    "collapsed": false
   },
   "outputs": [
    {
     "data": {
      "text/plain": [
       "0"
      ]
     },
     "execution_count": 26,
     "metadata": {},
     "output_type": "execute_result"
    }
   ],
   "source": [
    "# selection sort\n",
    "\n",
    "def argmin(v):\n",
    "    \"\"\"\n",
    "    this function returns the index of the smallest element\n",
    "    \"\"\"\n",
    "    min = v[0]\n",
    "    min_index = 0\n",
    "    for i in range(1, len(v)):\n",
    "        if v[i] < min:\n",
    "            min = v[i]\n",
    "            min_index = i\n",
    "    return min_index\n",
    "\n",
    "\n",
    "def selection_sort(v):\n",
    "    new_list = []\n",
    "    for i in range(len(v)):\n",
    "        t = argmin(v[i:])\n",
    "        v[i], t = t, v[i]\n",
    "#         v[i], argmin(v[i:]) = argmin(v[i:]), v[i]\n",
    "#         smallest = v[i]\n",
    "#         for j in range(i+1, len(v)):\n",
    "#             if smallest > v[j]:\n",
    "#                 smallest = v[j]\n",
    "# #         v[j], v[i] = v[i], v[j]\n",
    "#     return v\n",
    "\n",
    "n = [0, 5, 1, 4, 3]\n",
    "argmin(n)\n",
    "# selection_sort(n)"
   ]
  },
  {
   "cell_type": "code",
   "execution_count": 72,
   "metadata": {
    "collapsed": false,
    "scrolled": false
   },
   "outputs": [
    {
     "name": "stdout",
     "output_type": "stream",
     "text": [
      "1\n",
      "None\n"
     ]
    }
   ],
   "source": [
    "# binary search\n",
    "\n",
    "def binary_search(n, v):\n",
    "    \"\"\"\n",
    "    returns index of n in sorted array v, or False if not found\n",
    "    \"\"\"\n",
    "    low = 0\n",
    "    high = len(v) - 1\n",
    "    \n",
    "    while low <= high:\n",
    "        mid = int((low+high)/2)\n",
    "#         mid = int((high-low)/2) + low\n",
    "        \n",
    "        # left\n",
    "        if n < v[mid]:\n",
    "            high = mid-1  # update mid to high\n",
    "        elif n > v[mid]:\n",
    "            low = mid+1  # update mid to low\n",
    "        elif n == v[mid]:\n",
    "            return mid\n",
    "    \n",
    "#     print(\"not found\")\n",
    "    return None\n",
    "     \n",
    "# of course it doesn't work for a non-sorted list\n",
    "# my_list = [3, 2, 3, 4, -1, 500]\n",
    "# for x in my_list:\n",
    "# #     print(x)\n",
    "#     print(binary_search(x, my_list))\n",
    "\n",
    "\n",
    "my_list = [1, 3, 5, 7, 9]\n",
    "print(binary_search(3, my_list))\n",
    "print(binary_search(-1, my_list))"
   ]
  },
  {
   "cell_type": "code",
   "execution_count": 13,
   "metadata": {
    "collapsed": false
   },
   "outputs": [
    {
     "data": {
      "text/plain": [
       "\"\\n    This attempt runs into issues once v is reduced to an empty list, and you don't need recursion for binary search.\\n    Instead, keep two variables, low and high, to index the subarray.\\n\""
      ]
     },
     "execution_count": 13,
     "metadata": {},
     "output_type": "execute_result"
    }
   ],
   "source": [
    "\"\"\"\n",
    "    This attempt runs into issues once v is reduced to an empty list, and you don't need recursion for binary search.\n",
    "    Instead, keep two variables, low and high, to index the subarray.\n",
    "\"\"\"\n",
    "#     i = int(len(v)/2)\n",
    "# #     if n == v[i]:\n",
    "# #         return True\n",
    "#     print(\"i: \", i)\n",
    "    \n",
    "#     # found\n",
    "#     print(i, v)\n",
    "#     if n == v[i]:\n",
    "#         return True\n",
    "#     # left\n",
    "#     elif n < v[i]:\n",
    "#         print(\"left\")\n",
    "#         v = v[:i]  # check the left half\n",
    "#         binary_search(n, v)\n",
    "#     # right\n",
    "#     elif n > v[i]:\n",
    "#         print(\"right\")\n",
    "#         v = v[i+1:]\n",
    "#         print(i, v)\n",
    "#         binary_search(n, v)\n",
    "#     else: \n",
    "#         return False"
   ]
  },
  {
   "cell_type": "code",
   "execution_count": null,
   "metadata": {
    "collapsed": true
   },
   "outputs": [],
   "source": []
  }
 ],
 "metadata": {
  "anaconda-cloud": {},
  "kernelspec": {
   "display_name": "Python [conda root]",
   "language": "python",
   "name": "conda-root-py"
  },
  "language_info": {
   "codemirror_mode": {
    "name": "ipython",
    "version": 3
   },
   "file_extension": ".py",
   "mimetype": "text/x-python",
   "name": "python",
   "nbconvert_exporter": "python",
   "pygments_lexer": "ipython3",
   "version": "3.5.2"
  }
 },
 "nbformat": 4,
 "nbformat_minor": 1
}
