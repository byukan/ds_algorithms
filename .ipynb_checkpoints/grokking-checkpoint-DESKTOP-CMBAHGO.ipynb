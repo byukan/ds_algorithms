{
 "cells": [
  {
   "cell_type": "code",
   "execution_count": 1,
   "metadata": {
    "collapsed": true
   },
   "outputs": [],
   "source": [
    "graph = {}\n",
    "graph[\"you\"] = [\"alice\", \"bob\", \"claire\"]\n",
    "graph[\"bob\"] = [\"anuj\", \"peggy\"]\n",
    "graph[\"alice\"] = [\"peggy\"]\n",
    "graph[\"claire\"] = [\"thom\", \"jonny\"]\n",
    "graph[\"anuj\"] = []\n",
    "graph[\"peggy\"] = []\n",
    "graph[\"thom\"] = []\n",
    "graph[\"jonny\"] = []"
   ]
  },
  {
   "cell_type": "code",
   "execution_count": 15,
   "metadata": {
    "collapsed": false
   },
   "outputs": [
    {
     "name": "stdout",
     "output_type": "stream",
     "text": [
      "thom is a mango seller!\n"
     ]
    },
    {
     "data": {
      "text/plain": [
       "True"
      ]
     },
     "execution_count": 15,
     "metadata": {},
     "output_type": "execute_result"
    }
   ],
   "source": [
    "from collections import deque\n",
    "\n",
    "def breadth_first_search(graph, root_person):\n",
    "    search_queue = deque()\n",
    "    search_queue += graph[root_person]  # pass in root node\n",
    "    searched = []\n",
    "    \n",
    "    while search_queue:\n",
    "        person = search_queue.popleft()\n",
    "        \n",
    "        if not person in searched:\n",
    "            # check if person is mango seller\n",
    "            if person[-1] == 'm':\n",
    "                print(person, \"is a mango seller!\")\n",
    "                return True\n",
    "            else:\n",
    "                search_queue += graph[person]\n",
    "                searched.append(person)\n",
    "    return False\n",
    "\n",
    "\n",
    "breadth_first_search(graph, \"you\")"
   ]
  },
  {
   "cell_type": "code",
   "execution_count": 43,
   "metadata": {
    "collapsed": false
   },
   "outputs": [
    {
     "data": {
      "text/plain": [
       "[-8, -1, 0, 1, 3, 5, 7, 20]"
      ]
     },
     "execution_count": 43,
     "metadata": {},
     "output_type": "execute_result"
    }
   ],
   "source": [
    "import numpy as np\n",
    "\n",
    "# selection sort\n",
    "v = [5, 3, -1, 7, 0, 1, 20, -8]\n",
    "\n",
    "# np.argmin(v)\n",
    "\n",
    "def argmin(v):\n",
    "    min = v[0]\n",
    "    argmin = 0\n",
    "    for i in range(1, len(v)):\n",
    "        if v[i] < min:\n",
    "            min = v[i]\n",
    "            argmin = i\n",
    "    return argmin\n",
    "\n",
    "\n",
    "# argmin(v)\n",
    "\n",
    "# for i in range(2):\n",
    "#     print(v.pop(argmin(v)))\n",
    "#     print(v)\n",
    "\n",
    "def selection_sort(v):\n",
    "    t = []\n",
    "    for i in range(len(v)):\n",
    "        t.append(v.pop(argmin(v)))\n",
    "#         v.pop(argmin(v))  # pop removes at the given index and returns the dereferenced element\n",
    "    return t\n",
    "\n",
    "selection_sort(v)"
   ]
  },
  {
   "cell_type": "code",
   "execution_count": 22,
   "metadata": {
    "collapsed": false,
    "scrolled": false
   },
   "outputs": [
    {
     "name": "stdout",
     "output_type": "stream",
     "text": [
      "1\n",
      "None\n"
     ]
    }
   ],
   "source": [
    "# binary search\n",
    "\n",
    "def binary_search(n, v):\n",
    "    \"\"\"\n",
    "    returns index of n in sorted array v, or False if not found\n",
    "    \"\"\"\n",
    "    low = 0\n",
    "    high = len(v) - 1\n",
    "    \n",
    "    while low <= high:\n",
    "        mid = int((low+high)/2)\n",
    "#         mid = int((high-low)/2) + low\n",
    "        \n",
    "        # left\n",
    "        if n < v[mid]:\n",
    "            high = mid-1  # update mid to high\n",
    "        elif n > v[mid]:\n",
    "            low = mid+1  # update mid to low\n",
    "        elif n == v[mid]:\n",
    "            return mid\n",
    "    \n",
    "#     print(\"not found\")\n",
    "    return None\n",
    "     \n",
    "# of course it doesn't work for a non-sorted list\n",
    "# my_list = [3, 2, 3, 4, -1, 500]\n",
    "# for x in my_list:\n",
    "# #     print(x)\n",
    "#     print(binary_search(x, my_list))\n",
    "\n",
    "\n",
    "my_list = [1, 3, 5, 7, 9]\n",
    "print(binary_search(3, my_list))\n",
    "print(binary_search(-1, my_list))"
   ]
  },
  {
   "cell_type": "code",
   "execution_count": 13,
   "metadata": {
    "collapsed": false
   },
   "outputs": [
    {
     "data": {
      "text/plain": [
       "\"\\n    This attempt runs into issues once v is reduced to an empty list, and you don't need recursion for binary search.\\n    Instead, keep two variables, low and high, to index the subarray.\\n\""
      ]
     },
     "execution_count": 13,
     "metadata": {},
     "output_type": "execute_result"
    }
   ],
   "source": [
    "\"\"\"\n",
    "    This attempt runs into issues once v is reduced to an empty list, and you don't need recursion for binary search.\n",
    "    Instead, keep two variables, low and high, to index the subarray.\n",
    "\"\"\"\n",
    "#     i = int(len(v)/2)\n",
    "# #     if n == v[i]:\n",
    "# #         return True\n",
    "#     print(\"i: \", i)\n",
    "    \n",
    "#     # found\n",
    "#     print(i, v)\n",
    "#     if n == v[i]:\n",
    "#         return True\n",
    "#     # left\n",
    "#     elif n < v[i]:\n",
    "#         print(\"left\")\n",
    "#         v = v[:i]  # check the left half\n",
    "#         binary_search(n, v)\n",
    "#     # right\n",
    "#     elif n > v[i]:\n",
    "#         print(\"right\")\n",
    "#         v = v[i+1:]\n",
    "#         print(i, v)\n",
    "#         binary_search(n, v)\n",
    "#     else: \n",
    "#         return False"
   ]
  },
  {
   "cell_type": "code",
   "execution_count": null,
   "metadata": {
    "collapsed": true
   },
   "outputs": [],
   "source": []
  }
 ],
 "metadata": {
  "anaconda-cloud": {},
  "kernelspec": {
   "display_name": "Python [conda root]",
   "language": "python",
   "name": "conda-root-py"
  },
  "language_info": {
   "codemirror_mode": {
    "name": "ipython",
    "version": 3
   },
   "file_extension": ".py",
   "mimetype": "text/x-python",
   "name": "python",
   "nbconvert_exporter": "python",
   "pygments_lexer": "ipython3",
   "version": "3.5.2"
  }
 },
 "nbformat": 4,
 "nbformat_minor": 1
}
