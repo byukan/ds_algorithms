{
 "cells": [
  {
   "cell_type": "code",
   "execution_count": 2,
   "metadata": {
    "collapsed": false
   },
   "outputs": [
    {
     "name": "stdout",
     "output_type": "stream",
     "text": [
      "[3, 2, 4, 1, 0]\n"
     ]
    }
   ],
   "source": [
    "# knuth shuffle\n",
    "\n",
    "import random\n",
    "\n",
    "\n",
    "def shuffle(a):\n",
    "    # in iteration i, pick integer r between 0 and i uniformly at random\n",
    "    # swap a[i] and a[r]\n",
    "    for i in range(len(a)):\n",
    "        r = random.randint(0, i)\n",
    "        # j = random.randrange(i, len(a))\n",
    "        # print('r:', r, 'j:', j)\n",
    "        a[i], a[r] = a[r], a[i]\n",
    "    return a\n",
    "\n",
    "\n",
    "l = list(range(5))\n",
    "print(shuffle(l))\n"
   ]
  }
 ],
 "metadata": {
  "anaconda-cloud": {},
  "kernelspec": {
   "display_name": "Python [conda root]",
   "language": "python",
   "name": "conda-root-py"
  },
  "language_info": {
   "codemirror_mode": {
    "name": "ipython",
    "version": 3
   },
   "file_extension": ".py",
   "mimetype": "text/x-python",
   "name": "python",
   "nbconvert_exporter": "python",
   "pygments_lexer": "ipython3",
   "version": "3.5.2"
  }
 },
 "nbformat": 4,
 "nbformat_minor": 1
}
