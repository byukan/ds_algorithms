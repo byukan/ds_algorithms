{
 "cells": [
  {
   "cell_type": "code",
   "execution_count": null,
   "metadata": {
    "collapsed": true
   },
   "outputs": [],
   "source": [
    "\"\"\"\n",
    "linked list node\n",
    "\"\"\"\n",
    "\n",
    "class ListNode:\n",
    "    def __init__(self, data, next):\n",
    "        self.data = data\n",
    "        self.next = None\n",
    "        \n",
    "    def insert(node):\n",
    "        self.next = node"
   ]
  },
  {
   "cell_type": "code",
   "execution_count": 2,
   "metadata": {
    "collapsed": false,
    "scrolled": true
   },
   "outputs": [
    {
     "data": {
      "text/plain": [
       "[-8, -1, 0, 3, 5, 5, 7]"
      ]
     },
     "execution_count": 2,
     "metadata": {},
     "output_type": "execute_result"
    }
   ],
   "source": [
    "# quicksort\n",
    "\n",
    "def quicksort(v):\n",
    "    \"\"\"\n",
    "    list of length 1 or 0 is already sorted.\n",
    "    select a pivot, then construct lhs and rhs with elements <=, and >, respectively\n",
    "    recursively call quicksort\n",
    "    \"\"\"\n",
    "    \n",
    "    if len(v) < 2:\n",
    "        return v\n",
    "    else:\n",
    "        pivot = v[0]  # you could choose pivot arbitrarily\n",
    "        # lhs consists of all the elements <= pivot\n",
    "        lhs = [x for x in v[1:] if x <= pivot]\n",
    "        rhs = [x for x in v[1:] if x > pivot]\n",
    "        # recursively call quicksort on lhs and rhs, and concatenate\n",
    "        return quicksort(lhs) + [pivot] + quicksort(rhs)  # construct list using [pivot]\n",
    "    \n",
    "\n",
    "v = [5, -1, 3, 5, 0, -8, 7]\n",
    "quicksort(v)"
   ]
  },
  {
   "cell_type": "code",
   "execution_count": null,
   "metadata": {
    "collapsed": true
   },
   "outputs": [],
   "source": []
  }
 ],
 "metadata": {
  "anaconda-cloud": {},
  "kernelspec": {
   "display_name": "Python [conda env:nlp]",
   "language": "python",
   "name": "conda-env-nlp-py"
  },
  "language_info": {
   "codemirror_mode": {
    "name": "ipython",
    "version": 3
   },
   "file_extension": ".py",
   "mimetype": "text/x-python",
   "name": "python",
   "nbconvert_exporter": "python",
   "pygments_lexer": "ipython3",
   "version": "3.5.2"
  }
 },
 "nbformat": 4,
 "nbformat_minor": 1
}
