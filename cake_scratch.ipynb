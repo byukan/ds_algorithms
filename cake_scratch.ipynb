{
 "cells": [
  {
   "cell_type": "code",
   "execution_count": 10,
   "metadata": {},
   "outputs": [
    {
     "name": "stdout",
     "output_type": "stream",
     "text": [
      "[1, 3, 4, 5, 6, 8, 10, 11, 12, 14, 15, 19]\n"
     ]
    }
   ],
   "source": [
    "def merge_lists(v, w):\n",
    "    r = [None] * (len(v) + len(w))\n",
    "    i, j, k = 0, 0, 0\n",
    "    while i < len(v):\n",
    "        if v[i] <= w[j]:\n",
    "            r[k] = v[i]\n",
    "            i += 1\n",
    "        else:\n",
    "            r[k] = w[j]\n",
    "            j += 1\n",
    "        k += 1\n",
    "    while j < len(w):\n",
    "        r[k] = w[j]\n",
    "        k += 1\n",
    "        j += 1\n",
    "    \n",
    "    return r\n",
    "\n",
    "my_list     = [3, 4, 6, 10, 11, 15]\n",
    "alices_list = [1, 5, 8, 12, 14, 19]\n",
    "\n",
    "# Prints [1, 3, 4, 5, 6, 8, 10, 11, 12, 14, 15, 19]\n",
    "print(merge_lists(my_list, alices_list))"
   ]
  },
  {
   "cell_type": "code",
   "execution_count": null,
   "metadata": {},
   "outputs": [],
   "source": []
  }
 ],
 "metadata": {
  "kernelspec": {
   "display_name": "Python 3",
   "language": "python",
   "name": "python3"
  },
  "language_info": {
   "codemirror_mode": {
    "name": "ipython",
    "version": 3
   },
   "file_extension": ".py",
   "mimetype": "text/x-python",
   "name": "python",
   "nbconvert_exporter": "python",
   "pygments_lexer": "ipython3",
   "version": "3.7.3"
  }
 },
 "nbformat": 4,
 "nbformat_minor": 2
}
