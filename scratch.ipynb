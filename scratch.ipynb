{
 "cells": [
  {
   "cell_type": "code",
   "execution_count": 33,
   "metadata": {},
   "outputs": [
    {
     "name": "stdout",
     "output_type": "stream",
     "text": [
      "female 1\n",
      "30.333333333333332\n",
      "female 2\n",
      "11.666666666666666\n",
      "female 3\n",
      "1.0\n",
      "male 1\n",
      "0.5844155844155844\n",
      "male 2\n",
      "0.18681318681318682\n",
      "male 3\n",
      "0.15878378378378377\n"
     ]
    },
    {
     "data": {
      "text/plain": [
       "{'female1': 30.333333333333332,\n",
       " 'female2': 11.666666666666666,\n",
       " 'female3': 1.0,\n",
       " 'male1': 0.5844155844155844,\n",
       " 'male2': 0.18681318681318682,\n",
       " 'male3': 0.15878378378378377}"
      ]
     },
     "execution_count": 33,
     "metadata": {},
     "output_type": "execute_result"
    }
   ],
   "source": [
    "import pandas as pd\n",
    "df = pd.read_csv('titanic.csv')\n",
    "df\n",
    "\n",
    "df.query(\"Sex=='female' and Pclass==3\")\n",
    "\n",
    "d = {}\n",
    "for Sex in set(df['Sex']):\n",
    "    for Pclass in set(df['Pclass']):\n",
    "        sdf = df.query(f\"Sex=='{Sex}' and Pclass=={Pclass}\")\n",
    "        print(Sex, Pclass)\n",
    "        odds = len(sdf.query('Survived == 1'))/len(sdf.query('Survived == 0'))\n",
    "        print(len(sdf.query('Survived == 1'))/len(sdf.query('Survived == 0')))\n",
    "        d[f'{Sex}{Pclass}'] = odds\n",
    "\n",
    "d"
   ]
  },
  {
   "cell_type": "code",
   "execution_count": 35,
   "metadata": {},
   "outputs": [
    {
     "data": {
      "text/plain": [
       "0.5844"
      ]
     },
     "execution_count": 35,
     "metadata": {},
     "output_type": "execute_result"
    }
   ],
   "source": [
    "round(0.5844155844155844, 4)"
   ]
  },
  {
   "cell_type": "code",
   "execution_count": 10,
   "metadata": {},
   "outputs": [
    {
     "ename": "TypeError",
     "evalue": "combinations() missing required argument 'r' (pos 2)",
     "output_type": "error",
     "traceback": [
      "\u001b[0;31m---------------------------------------------------------------------------\u001b[0m",
      "\u001b[0;31mTypeError\u001b[0m                                 Traceback (most recent call last)",
      "\u001b[0;32m<ipython-input-10-ac4bab0419f1>\u001b[0m in \u001b[0;36m<module>\u001b[0;34m\u001b[0m\n\u001b[1;32m      1\u001b[0m \u001b[0;32mfrom\u001b[0m \u001b[0mitertools\u001b[0m \u001b[0;32mimport\u001b[0m \u001b[0mcombinations\u001b[0m\u001b[0;34m\u001b[0m\u001b[0;34m\u001b[0m\u001b[0m\n\u001b[0;32m----> 2\u001b[0;31m \u001b[0mlist\u001b[0m\u001b[0;34m(\u001b[0m\u001b[0mcombinations\u001b[0m\u001b[0;34m(\u001b[0m\u001b[0;34m'abcd'\u001b[0m\u001b[0;34m)\u001b[0m\u001b[0;34m)\u001b[0m\u001b[0;34m\u001b[0m\u001b[0;34m\u001b[0m\u001b[0m\n\u001b[0m",
      "\u001b[0;31mTypeError\u001b[0m: combinations() missing required argument 'r' (pos 2)"
     ]
    }
   ],
   "source": [
    "# from itertools import combinations\n",
    "# list(combinations('abcd'))\n",
    "\n",
    "\n",
    "\n",
    "# from itertools import combinations \n",
    "  \n",
    "# letters =\"GEE\"\n",
    "  \n",
    "# # size of combination is set to 3 \n",
    "# a = combinations(letters, 3)\n",
    "# y = [' '.join(i) for i in a]\n",
    "  \n",
    "# print(y) "
   ]
  },
  {
   "cell_type": "code",
   "execution_count": null,
   "metadata": {},
   "outputs": [],
   "source": []
  },
  {
   "cell_type": "code",
   "execution_count": null,
   "metadata": {},
   "outputs": [],
   "source": []
  },
  {
   "cell_type": "code",
   "execution_count": null,
   "metadata": {},
   "outputs": [],
   "source": []
  },
  {
   "cell_type": "code",
   "execution_count": null,
   "metadata": {},
   "outputs": [],
   "source": []
  },
  {
   "cell_type": "code",
   "execution_count": null,
   "metadata": {},
   "outputs": [],
   "source": []
  },
  {
   "cell_type": "code",
   "execution_count": null,
   "metadata": {},
   "outputs": [],
   "source": []
  },
  {
   "cell_type": "code",
   "execution_count": null,
   "metadata": {},
   "outputs": [],
   "source": []
  },
  {
   "cell_type": "code",
   "execution_count": null,
   "metadata": {},
   "outputs": [],
   "source": []
  },
  {
   "cell_type": "code",
   "execution_count": null,
   "metadata": {},
   "outputs": [],
   "source": []
  },
  {
   "cell_type": "code",
   "execution_count": null,
   "metadata": {},
   "outputs": [],
   "source": []
  },
  {
   "cell_type": "code",
   "execution_count": null,
   "metadata": {},
   "outputs": [],
   "source": []
  },
  {
   "cell_type": "raw",
   "metadata": {},
   "source": [
    "Newton's method gives the formula: x[n+1] = x[n] - sin(x[n])/cos(x[n] and, as cos(x[n]) is close to -1, you get your formula by replacing cos(x[n]) by -1 in the above formula."
   ]
  },
  {
   "cell_type": "code",
   "execution_count": null,
   "metadata": {
    "scrolled": true
   },
   "outputs": [],
   "source": [
    "from math import sin,cos\n",
    "\n",
    "def approx_fixed_point(f, x):\n",
    "    return True if abs(f(x) - x) < 1e-15 else False\n",
    "\n",
    "\n",
    "def fixed_point_iteration(f, x=1.0):\n",
    "    step = 0\n",
    "    while not approx_fixed_point(f, x):\n",
    "        x = f(x)\n",
    "        step += 1\n",
    "    return x, step\n",
    "\n",
    "print(fixed_point_iteration(lambda x: sin(x) + x, 3.0))\n",
    "\n",
    "\n",
    "def newton_find_zero(f1,f2, x=1.0):\n",
    "    step = 0\n",
    "    while not approx_fixed_point(lambda x: x - f1(x)/f2(x), x):\n",
    "        x = x - f1(x)/f2(x) #usecase of sin/cos\n",
    "        step += 1\n",
    "    return x, step\n",
    "\n",
    "\n",
    "print(newton_find_zero(lambda x: sin(x), lambda x: cos(x), 3.0))\n",
    "\n",
    "\n",
    "\n",
    "print(fixed_point_iteration(lambda x: cos(x), 1.0))\n",
    "print(newton_find_zero(lambda x: cos(x) - x , lambda x: -sin(x)-1, 1.0))"
   ]
  },
  {
   "cell_type": "code",
   "execution_count": null,
   "metadata": {},
   "outputs": [],
   "source": []
  },
  {
   "cell_type": "code",
   "execution_count": null,
   "metadata": {},
   "outputs": [],
   "source": [
    "def main():\n",
    "    kilometers = float(input(\"How many kilometers did you run?\\n\"))\n",
    "    hours = float(input(\"How many hours did it take you?\\n\"))\n",
    "    minutes = float(input(\"How many minutes did it take you?\\n\"))\n",
    "\n",
    "    miles_ran = kilometers * .6213\n",
    "    minutes_per_mile = ((hours * 60**2 + minutes*60) / miles_ran) / 60\n",
    "    seconds_remainder = ((minutes_per_mile % 1) * 60)\n",
    "    average_mph = miles_ran / (hours + (minutes/60))\n",
    "\n",
    "    print(\"You ran\", round(miles_ran, 2), \"miles\")\n",
    "    print(\"Your pace:\", int(minutes_per_mile), \"min\", round(seconds_remainder), \"sec per mile\")\n",
    "    print(\"Your MPH:\", round(average_mph, 2))\n",
    "    \n",
    "main()"
   ]
  },
  {
   "cell_type": "code",
   "execution_count": null,
   "metadata": {},
   "outputs": [],
   "source": [
    "minutes_per_mile"
   ]
  },
  {
   "cell_type": "code",
   "execution_count": null,
   "metadata": {
    "scrolled": false
   },
   "outputs": [],
   "source": [
    "int(((hours * 60**2 + minutes) / miles_ran) / 60)"
   ]
  },
  {
   "cell_type": "code",
   "execution_count": null,
   "metadata": {},
   "outputs": [],
   "source": [
    "((minutes_per_mile % 1) * 60)/100"
   ]
  },
  {
   "cell_type": "code",
   "execution_count": null,
   "metadata": {},
   "outputs": [],
   "source": [
    ".822866344605474"
   ]
  },
  {
   "cell_type": "code",
   "execution_count": null,
   "metadata": {},
   "outputs": [],
   "source": [
    "seconds_per_mile"
   ]
  },
  {
   "cell_type": "code",
   "execution_count": null,
   "metadata": {},
   "outputs": [],
   "source": [
    "minutes_per_mile"
   ]
  },
  {
   "cell_type": "code",
   "execution_count": null,
   "metadata": {
    "scrolled": false
   },
   "outputs": [],
   "source": [
    "# rm non! chars from string, keep remaining chars in order\n",
    "\n",
    "def remove_duplicates(s):\n",
    "    \"\"\"\n",
    "    O(n) space, O(n) time\n",
    "    if we didn't want to use any additional auxiliary memory, we could keep an index of the placeholder and remove the\n",
    "    element from s - but a string is structured like a array, so that removal would cost O(n), but maybe you can substitute\n",
    "    in a placeholder...\n",
    "    \"\"\"\n",
    "    unique_chars = set()\n",
    "    remaining_chars = \"\"\n",
    "    for x in s:\n",
    "        if x not in unique_chars:\n",
    "            unique_chars.add(x)\n",
    "            remaining_chars += x\n",
    "    return remaining_chars\n",
    "\n",
    "\n",
    "s = \"mississippi\"\n",
    "remove_duplicates(s)"
   ]
  },
  {
   "cell_type": "code",
   "execution_count": null,
   "metadata": {
    "scrolled": true
   },
   "outputs": [],
   "source": [
    "import pandas as pd\n",
    "import numpy as np\n",
    "\n",
    "accounts = np.array([[1, 1, 3], [1, 2, 3], [1, 3, 1], [2, 2, 1], [2, 3, 1], [3, 1, 3], [4, 4, 1], [5, 5, 2]])\n",
    "\n",
    "A = pd.DataFrame(accounts, columns=['account_id', 'item_id', 'rating'])\n",
    "\n",
    "B = np.zeros((max(A.account_id), max(A.item_id)), dtype=int)\n",
    "\n",
    "for account in accounts:\n",
    "    account_id, item_id, rating = account\n",
    "    B[account_id - 1][item_id - 1] = rating\n",
    "\n",
    "B = pd.DataFrame(B, index=list(range(1, max(A.account_id) + 1)), columns=list(range(1, max(A.item_id) + 1)))\n",
    "print(B)"
   ]
  },
  {
   "cell_type": "code",
   "execution_count": null,
   "metadata": {
    "scrolled": true
   },
   "outputs": [],
   "source": [
    "list(range(1,10))"
   ]
  },
  {
   "cell_type": "code",
   "execution_count": null,
   "metadata": {
    "scrolled": true
   },
   "outputs": [],
   "source": [
    "import random\n",
    "\n",
    "one_hundred_coins = [1] + [.5]*99\n",
    "my_pick = one_hundred_coins[random.randint(0, 100)]\n",
    "\n",
    "# flip it 10 times\n",
    "# my_pick**10\n",
    "\n",
    "hundred_picks = [one_hundred_coins[random.randint(0, 100) for _ in range(100)]\n",
    "                 \n",
    "                 my_pick"
   ]
  },
  {
   "cell_type": "code",
   "execution_count": null,
   "metadata": {
    "scrolled": false
   },
   "outputs": [],
   "source": [
    "s = 'xyz'\n",
    "s[::-1]"
   ]
  },
  {
   "cell_type": "code",
   "execution_count": null,
   "metadata": {},
   "outputs": [],
   "source": [
    "r_s = [s[c] for c in range(-1, -len(s)-1, -1)]\n",
    "\"\".join(r_s)"
   ]
  },
  {
   "cell_type": "code",
   "execution_count": null,
   "metadata": {},
   "outputs": [],
   "source": [
    "import numpy as np\n",
    "\n",
    "l = [1, -2, 3, 10, -4, 7, 2, -5]\n",
    "A = [-1, 3, -5, 6, -7, 8]\n",
    "\n",
    "# get a recursion\n",
    "def max_subarray(l):\n",
    "#     c = 0\n",
    "    s = 0\n",
    "#     sum = 0\n",
    "    maxes = [l[0]]\n",
    "    for i in range(1, len(l)):\n",
    "#         c += 1\n",
    "#         sum += l[i]\n",
    "        maxes.append(max(l[i], l[i]+maxes[i-1]))\n",
    "        if l[i] > l[i]+maxes[i-1]:\n",
    "            s = i\n",
    "#             e = \n",
    "#         else:\n",
    "# #             s = \n",
    "#             e = i\n",
    "#     print(c)\n",
    "    return l[s:np.argmax(maxes)+1], sum(l[s:np.argmax(maxes)+1])\n",
    "\n",
    "print(max_subarray(l))\n",
    "print(max_subarray(A))"
   ]
  },
  {
   "cell_type": "code",
   "execution_count": null,
   "metadata": {},
   "outputs": [],
   "source": [
    "from collections import defaultdict, deque\n",
    "\n",
    "\n",
    "class Graph(object):\n",
    "    def __init__(self):\n",
    "        self.nodes = set()\n",
    "        self.edges = defaultdict(list)\n",
    "        self.distances = {}\n",
    "\n",
    "    def add_node(self, value):\n",
    "        self.nodes.add(value)\n",
    "\n",
    "    def add_edge(self, from_node, to_node, distance):\n",
    "        self.edges[from_node].append(to_node)\n",
    "        self.edges[to_node].append(from_node)\n",
    "        self.distances[(from_node, to_node)] = distance\n",
    "\n",
    "\n",
    "def dijkstra(graph, initial):\n",
    "    visited = {initial: 0}\n",
    "    path = {}\n",
    "\n",
    "    nodes = set(graph.nodes)\n",
    "\n",
    "    while nodes:\n",
    "        min_node = None\n",
    "        for node in nodes:\n",
    "            if node in visited:\n",
    "                if min_node is None:\n",
    "                    min_node = node\n",
    "                elif visited[node] < visited[min_node]:\n",
    "                    min_node = node\n",
    "        if min_node is None:\n",
    "            break\n",
    "\n",
    "        nodes.remove(min_node)\n",
    "        current_weight = visited[min_node]\n",
    "\n",
    "        for edge in graph.edges[min_node]:\n",
    "            try:\n",
    "                weight = current_weight + graph.distances[(min_node, edge)]\n",
    "            except:\n",
    "                continue\n",
    "            if edge not in visited or weight < visited[edge]:\n",
    "                visited[edge] = weight\n",
    "                path[edge] = min_node\n",
    "\n",
    "    return visited, path\n",
    "\n",
    "\n",
    "def shortest_path(graph, origin, destination):\n",
    "    visited, paths = dijkstra(graph, origin)\n",
    "    full_path = deque()\n",
    "    _destination = paths[destination]\n",
    "\n",
    "    while _destination != origin:\n",
    "        full_path.appendleft(_destination)\n",
    "        _destination = paths[_destination]\n",
    "\n",
    "    full_path.appendleft(origin)\n",
    "    full_path.append(destination)\n",
    "\n",
    "    return visited[destination], list(full_path)\n",
    "\n",
    "if __name__ == '__main__':\n",
    "    graph = Graph()\n",
    "\n",
    "    for node in ['A', 'B', 'C', 'D', 'E', 'F', 'G']:\n",
    "        graph.add_node(node)\n",
    "\n",
    "    graph.add_edge('A', 'B', 10)\n",
    "    graph.add_edge('A', 'C', 20)\n",
    "    graph.add_edge('B', 'D', 15)\n",
    "    graph.add_edge('C', 'D', 30)\n",
    "    graph.add_edge('B', 'E', 50)\n",
    "    graph.add_edge('D', 'E', 30)\n",
    "    graph.add_edge('E', 'F', 5)\n",
    "    graph.add_edge('F', 'G', 2)\n",
    "\n",
    "print(shortest_path(graph, 'A', 'D')) # output: (25, ['A', 'B', 'D'])"
   ]
  },
  {
   "cell_type": "code",
   "execution_count": null,
   "metadata": {
    "scrolled": false
   },
   "outputs": [],
   "source": [
    "def sum_digits(n):\n",
    "    s = 0\n",
    "    while n > 0:\n",
    "        s += n%10\n",
    "        n = n-n%10\n",
    "        n /=10\n",
    "    return s\n",
    "\n",
    "\n",
    "sum_digits(123)"
   ]
  },
  {
   "cell_type": "markdown",
   "metadata": {},
   "source": [
    "# aug18_scratch practice"
   ]
  },
  {
   "cell_type": "code",
   "execution_count": null,
   "metadata": {
    "scrolled": true
   },
   "outputs": [],
   "source": [
    "def quicksort(v):\n",
    "    if len(v) <= 1:\n",
    "        return v\n",
    "    \n",
    "    pivot = v[0]\n",
    "    lhs = [x for x in v[1:] if x <= pivot]\n",
    "    rhs = [x for x in v[1:] if x > pivot]\n",
    "    return quicksort(lhs) + [pivot] + quicksort(rhs)\n",
    "\n",
    "\n",
    "v = [45, 69, 3.3, -69, 22]\n",
    "quicksort(v)"
   ]
  },
  {
   "cell_type": "code",
   "execution_count": null,
   "metadata": {},
   "outputs": [],
   "source": [
    "def is_single_riffle(shuffled_deck, half1, half2):\n",
    "    i, j, k = 0, 0, 0\n",
    "    \n",
    "    while k < len(shuffled_deck):\n",
    "        # check the hands\n",
    "        if i < len(half1) and shuffled_deck[k] == half1[i]:\n",
    "            i += 1\n",
    "        elif j < len(half2) and shuffled_deck[k] == half2[j]:\n",
    "            j += 1\n",
    "        else:\n",
    "            return False\n",
    "        k += 1\n",
    "    return True\n",
    "\n",
    "    \n",
    "    \n",
    "is_single_riffle(shuffled_deck=[1, 2, 3, 4, 5, 6], half1=[1, 3, 5], half2=[2, 4, 6]), is_single_riffle(shuffled_deck=[1, 2, 3, 4, 5, 6], half1=[1, 5, 3], half2=[2, 4, 6])"
   ]
  },
  {
   "cell_type": "code",
   "execution_count": null,
   "metadata": {},
   "outputs": [],
   "source": []
  }
 ],
 "metadata": {
  "anaconda-cloud": {},
  "kernelspec": {
   "display_name": "Python 3",
   "language": "python",
   "name": "python3"
  },
  "language_info": {
   "codemirror_mode": {
    "name": "ipython",
    "version": 3
   },
   "file_extension": ".py",
   "mimetype": "text/x-python",
   "name": "python",
   "nbconvert_exporter": "python",
   "pygments_lexer": "ipython3",
   "version": "3.7.6"
  }
 },
 "nbformat": 4,
 "nbformat_minor": 1
}
