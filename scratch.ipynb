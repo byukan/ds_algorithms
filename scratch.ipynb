{
 "cells": [
  {
   "cell_type": "raw",
   "metadata": {},
   "source": [
    "Newton's method gives the formula: x[n+1] = x[n] - sin(x[n])/cos(x[n] and, as cos(x[n]) is close to -1, you get your formula by replacing cos(x[n]) by -1 in the above formula."
   ]
  },
  {
   "cell_type": "code",
   "execution_count": 99,
   "metadata": {
    "scrolled": true
   },
   "outputs": [
    {
     "name": "stdout",
     "output_type": "stream",
     "text": [
      "(3.141592653589793, 3)\n",
      "(3.141592653589793, 3)\n",
      "(0.7390851332151611, 86)\n",
      "(0.7390851332151606, 4)\n"
     ]
    }
   ],
   "source": [
    "from math import sin,cos\n",
    "\n",
    "def approx_fixed_point(f, x):\n",
    "    return True if abs(f(x) - x) < 1e-15 else False\n",
    "\n",
    "\n",
    "def fixed_point_iteration(f, x=1.0):\n",
    "    step = 0\n",
    "    while not approx_fixed_point(f, x):\n",
    "        x = f(x)\n",
    "        step += 1\n",
    "    return x, step\n",
    "\n",
    "print(fixed_point_iteration(lambda x: sin(x) + x, 3.0))\n",
    "\n",
    "\n",
    "def newton_find_zero(f1,f2, x=1.0):\n",
    "    step = 0\n",
    "    while not approx_fixed_point(lambda x: x - f1(x)/f2(x), x):\n",
    "        x = x - f1(x)/f2(x) #usecase of sin/cos\n",
    "        step += 1\n",
    "    return x, step\n",
    "\n",
    "\n",
    "print(newton_find_zero(lambda x: sin(x), lambda x: cos(x), 3.0))\n",
    "\n",
    "\n",
    "\n",
    "print(fixed_point_iteration(lambda x: cos(x), 1.0))\n",
    "print(newton_find_zero(lambda x: cos(x) - x , lambda x: -sin(x)-1, 1.0))"
   ]
  },
  {
   "cell_type": "code",
   "execution_count": null,
   "metadata": {},
   "outputs": [],
   "source": []
  },
  {
   "cell_type": "code",
   "execution_count": 56,
   "metadata": {},
   "outputs": [
    {
     "name": "stdout",
     "output_type": "stream",
     "text": [
      "How many kilometers did you run?\n",
      "10\n",
      "How many hours did it take you?\n",
      "1\n",
      "How many minutes did it take you?\n",
      "1\n",
      "You ran 6.21 miles\n",
      "Your pace: 9 min 49 sec per mile\n",
      "Your MPH: 6.11\n"
     ]
    }
   ],
   "source": [
    "def main():\n",
    "    kilometers = float(input(\"How many kilometers did you run?\\n\"))\n",
    "    hours = float(input(\"How many hours did it take you?\\n\"))\n",
    "    minutes = float(input(\"How many minutes did it take you?\\n\"))\n",
    "\n",
    "    miles_ran = kilometers * .6213\n",
    "    minutes_per_mile = ((hours * 60**2 + minutes*60) / miles_ran) / 60\n",
    "    seconds_remainder = ((minutes_per_mile % 1) * 60)\n",
    "    average_mph = miles_ran / (hours + (minutes/60))\n",
    "\n",
    "    print(\"You ran\", round(miles_ran, 2), \"miles\")\n",
    "    print(\"Your pace:\", int(minutes_per_mile), \"min\", round(seconds_remainder), \"sec per mile\")\n",
    "    print(\"Your MPH:\", round(average_mph, 2))\n",
    "    \n",
    "main()"
   ]
  },
  {
   "cell_type": "code",
   "execution_count": 20,
   "metadata": {},
   "outputs": [
    {
     "data": {
      "text/plain": [
       "9.664519592055823"
      ]
     },
     "execution_count": 20,
     "metadata": {},
     "output_type": "execute_result"
    }
   ],
   "source": [
    "minutes_per_mile"
   ]
  },
  {
   "cell_type": "code",
   "execution_count": 43,
   "metadata": {
    "scrolled": false
   },
   "outputs": [
    {
     "data": {
      "text/plain": [
       "9"
      ]
     },
     "execution_count": 43,
     "metadata": {},
     "output_type": "execute_result"
    }
   ],
   "source": [
    "int(((hours * 60**2 + minutes) / miles_ran) / 60)"
   ]
  },
  {
   "cell_type": "code",
   "execution_count": 21,
   "metadata": {},
   "outputs": [
    {
     "data": {
      "text/plain": [
       "0.398711755233494"
      ]
     },
     "execution_count": 21,
     "metadata": {},
     "output_type": "execute_result"
    }
   ],
   "source": [
    "((minutes_per_mile % 1) * 60)/100"
   ]
  },
  {
   "cell_type": "code",
   "execution_count": 42,
   "metadata": {},
   "outputs": [
    {
     "data": {
      "text/plain": [
       "0.0137144390767579"
      ]
     },
     "execution_count": 42,
     "metadata": {},
     "output_type": "execute_result"
    }
   ],
   "source": [
    ".822866344605474"
   ]
  },
  {
   "cell_type": "code",
   "execution_count": 36,
   "metadata": {},
   "outputs": [
    {
     "data": {
      "text/plain": [
       "579.7101449275362"
      ]
     },
     "execution_count": 36,
     "metadata": {},
     "output_type": "execute_result"
    }
   ],
   "source": [
    "seconds_per_mile"
   ]
  },
  {
   "cell_type": "code",
   "execution_count": 34,
   "metadata": {},
   "outputs": [
    {
     "data": {
      "text/plain": [
       "9"
      ]
     },
     "execution_count": 34,
     "metadata": {},
     "output_type": "execute_result"
    }
   ],
   "source": [
    "minutes_per_mile"
   ]
  },
  {
   "cell_type": "code",
   "execution_count": 4,
   "metadata": {
    "scrolled": false
   },
   "outputs": [
    {
     "data": {
      "text/plain": [
       "'misp'"
      ]
     },
     "execution_count": 4,
     "metadata": {},
     "output_type": "execute_result"
    }
   ],
   "source": [
    "# rm non! chars from string, keep remaining chars in order\n",
    "\n",
    "def remove_duplicates(s):\n",
    "    \"\"\"\n",
    "    O(n) space, O(n) time\n",
    "    if we didn't want to use any additional auxiliary memory, we could keep an index of the placeholder and remove the\n",
    "    element from s - but a string is structured like a array, so that removal would cost O(n), but maybe you can substitute\n",
    "    in a placeholder...\n",
    "    \"\"\"\n",
    "    unique_chars = set()\n",
    "    remaining_chars = \"\"\n",
    "    for x in s:\n",
    "        if x not in unique_chars:\n",
    "            unique_chars.add(x)\n",
    "            remaining_chars += x\n",
    "    return remaining_chars\n",
    "\n",
    "\n",
    "s = \"mississippi\"\n",
    "remove_duplicates(s)"
   ]
  },
  {
   "cell_type": "code",
   "execution_count": 1,
   "metadata": {
    "scrolled": true
   },
   "outputs": [
    {
     "name": "stdout",
     "output_type": "stream",
     "text": [
      "   1  2  3  4  5\n",
      "1  3  3  1  0  0\n",
      "2  0  1  1  0  0\n",
      "3  3  0  0  0  0\n",
      "4  0  0  0  1  0\n",
      "5  0  0  0  0  2\n"
     ]
    }
   ],
   "source": [
    "import pandas as pd\n",
    "import numpy as np\n",
    "\n",
    "accounts = np.array([[1, 1, 3], [1, 2, 3], [1, 3, 1], [2, 2, 1], [2, 3, 1], [3, 1, 3], [4, 4, 1], [5, 5, 2]])\n",
    "\n",
    "A = pd.DataFrame(accounts, columns=['account_id', 'item_id', 'rating'])\n",
    "\n",
    "B = np.zeros((max(A.account_id), max(A.item_id)), dtype=int)\n",
    "\n",
    "for account in accounts:\n",
    "    account_id, item_id, rating = account\n",
    "    B[account_id - 1][item_id - 1] = rating\n",
    "\n",
    "B = pd.DataFrame(B, index=list(range(1, max(A.account_id) + 1)), columns=list(range(1, max(A.item_id) + 1)))\n",
    "print(B)"
   ]
  },
  {
   "cell_type": "code",
   "execution_count": 128,
   "metadata": {
    "scrolled": true
   },
   "outputs": [
    {
     "data": {
      "text/plain": [
       "[1, 2, 3, 4, 5, 6, 7, 8, 9]"
      ]
     },
     "execution_count": 128,
     "metadata": {},
     "output_type": "execute_result"
    }
   ],
   "source": [
    "list(range(1,10))"
   ]
  },
  {
   "cell_type": "code",
   "execution_count": 36,
   "metadata": {
    "scrolled": true
   },
   "outputs": [
    {
     "ename": "SyntaxError",
     "evalue": "invalid syntax (<ipython-input-36-91686cc9cb4c>, line 9)",
     "output_type": "error",
     "traceback": [
      "\u001b[0;36m  File \u001b[0;32m\"<ipython-input-36-91686cc9cb4c>\"\u001b[0;36m, line \u001b[0;32m9\u001b[0m\n\u001b[0;31m    hundred_picks = [one_hundred_coins[random.randint(0, 100) for _ in range(100)]\u001b[0m\n\u001b[0m                                                                ^\u001b[0m\n\u001b[0;31mSyntaxError\u001b[0m\u001b[0;31m:\u001b[0m invalid syntax\n"
     ]
    }
   ],
   "source": [
    "import random\n",
    "\n",
    "one_hundred_coins = [1] + [.5]*99\n",
    "my_pick = one_hundred_coins[random.randint(0, 100)]\n",
    "\n",
    "# flip it 10 times\n",
    "# my_pick**10\n",
    "\n",
    "hundred_picks = [one_hundred_coins[random.randint(0, 100) for _ in range(100)]\n",
    "                 \n",
    "                 my_pick"
   ]
  },
  {
   "cell_type": "code",
   "execution_count": 10,
   "metadata": {
    "scrolled": false
   },
   "outputs": [
    {
     "data": {
      "text/plain": [
       "'zyx'"
      ]
     },
     "execution_count": 10,
     "metadata": {},
     "output_type": "execute_result"
    }
   ],
   "source": [
    "s = 'xyz'\n",
    "s[::-1]"
   ]
  },
  {
   "cell_type": "code",
   "execution_count": 20,
   "metadata": {},
   "outputs": [
    {
     "data": {
      "text/plain": [
       "'zyx'"
      ]
     },
     "execution_count": 20,
     "metadata": {},
     "output_type": "execute_result"
    }
   ],
   "source": [
    "r_s = [s[c] for c in range(-1, -len(s)-1, -1)]\n",
    "\"\".join(r_s)"
   ]
  },
  {
   "cell_type": "code",
   "execution_count": 9,
   "metadata": {},
   "outputs": [
    {
     "name": "stdout",
     "output_type": "stream",
     "text": [
      "([3, 10, -4, 7, 2], 18)\n",
      "([8], 8)\n"
     ]
    }
   ],
   "source": [
    "import numpy as np\n",
    "\n",
    "l = [1, -2, 3, 10, -4, 7, 2, -5]\n",
    "A = [-1, 3, -5, 6, -7, 8]\n",
    "\n",
    "# get a recursion\n",
    "def max_subarray(l):\n",
    "#     c = 0\n",
    "    s = 0\n",
    "#     sum = 0\n",
    "    maxes = [l[0]]\n",
    "    for i in range(1, len(l)):\n",
    "#         c += 1\n",
    "#         sum += l[i]\n",
    "        maxes.append(max(l[i], l[i]+maxes[i-1]))\n",
    "        if l[i] > l[i]+maxes[i-1]:\n",
    "            s = i\n",
    "#             e = \n",
    "#         else:\n",
    "# #             s = \n",
    "#             e = i\n",
    "#     print(c)\n",
    "    return l[s:np.argmax(maxes)+1], sum(l[s:np.argmax(maxes)+1])\n",
    "\n",
    "print(max_subarray(l))\n",
    "print(max_subarray(A))"
   ]
  },
  {
   "cell_type": "code",
   "execution_count": 6,
   "metadata": {},
   "outputs": [
    {
     "name": "stdout",
     "output_type": "stream",
     "text": [
      "(25, ['A', 'B', 'D'])\n"
     ]
    }
   ],
   "source": [
    "from collections import defaultdict, deque\n",
    "\n",
    "\n",
    "class Graph(object):\n",
    "    def __init__(self):\n",
    "        self.nodes = set()\n",
    "        self.edges = defaultdict(list)\n",
    "        self.distances = {}\n",
    "\n",
    "    def add_node(self, value):\n",
    "        self.nodes.add(value)\n",
    "\n",
    "    def add_edge(self, from_node, to_node, distance):\n",
    "        self.edges[from_node].append(to_node)\n",
    "        self.edges[to_node].append(from_node)\n",
    "        self.distances[(from_node, to_node)] = distance\n",
    "\n",
    "\n",
    "def dijkstra(graph, initial):\n",
    "    visited = {initial: 0}\n",
    "    path = {}\n",
    "\n",
    "    nodes = set(graph.nodes)\n",
    "\n",
    "    while nodes:\n",
    "        min_node = None\n",
    "        for node in nodes:\n",
    "            if node in visited:\n",
    "                if min_node is None:\n",
    "                    min_node = node\n",
    "                elif visited[node] < visited[min_node]:\n",
    "                    min_node = node\n",
    "        if min_node is None:\n",
    "            break\n",
    "\n",
    "        nodes.remove(min_node)\n",
    "        current_weight = visited[min_node]\n",
    "\n",
    "        for edge in graph.edges[min_node]:\n",
    "            try:\n",
    "                weight = current_weight + graph.distances[(min_node, edge)]\n",
    "            except:\n",
    "                continue\n",
    "            if edge not in visited or weight < visited[edge]:\n",
    "                visited[edge] = weight\n",
    "                path[edge] = min_node\n",
    "\n",
    "    return visited, path\n",
    "\n",
    "\n",
    "def shortest_path(graph, origin, destination):\n",
    "    visited, paths = dijkstra(graph, origin)\n",
    "    full_path = deque()\n",
    "    _destination = paths[destination]\n",
    "\n",
    "    while _destination != origin:\n",
    "        full_path.appendleft(_destination)\n",
    "        _destination = paths[_destination]\n",
    "\n",
    "    full_path.appendleft(origin)\n",
    "    full_path.append(destination)\n",
    "\n",
    "    return visited[destination], list(full_path)\n",
    "\n",
    "if __name__ == '__main__':\n",
    "    graph = Graph()\n",
    "\n",
    "    for node in ['A', 'B', 'C', 'D', 'E', 'F', 'G']:\n",
    "        graph.add_node(node)\n",
    "\n",
    "    graph.add_edge('A', 'B', 10)\n",
    "    graph.add_edge('A', 'C', 20)\n",
    "    graph.add_edge('B', 'D', 15)\n",
    "    graph.add_edge('C', 'D', 30)\n",
    "    graph.add_edge('B', 'E', 50)\n",
    "    graph.add_edge('D', 'E', 30)\n",
    "    graph.add_edge('E', 'F', 5)\n",
    "    graph.add_edge('F', 'G', 2)\n",
    "\n",
    "print(shortest_path(graph, 'A', 'D')) # output: (25, ['A', 'B', 'D'])"
   ]
  },
  {
   "cell_type": "code",
   "execution_count": 2,
   "metadata": {
    "scrolled": false
   },
   "outputs": [
    {
     "data": {
      "text/plain": [
       "6.0"
      ]
     },
     "execution_count": 2,
     "metadata": {},
     "output_type": "execute_result"
    }
   ],
   "source": [
    "def sum_digits(n):\n",
    "    s = 0\n",
    "    while n > 0:\n",
    "        s += n%10\n",
    "        n = n-n%10\n",
    "        n /=10\n",
    "    return s\n",
    "\n",
    "\n",
    "sum_digits(123)"
   ]
  },
  {
   "cell_type": "markdown",
   "metadata": {},
   "source": [
    "# aug18_scratch practice"
   ]
  },
  {
   "cell_type": "code",
   "execution_count": 7,
   "metadata": {
    "scrolled": true
   },
   "outputs": [
    {
     "data": {
      "text/plain": [
       "[-69, 3.3, 22, 45, 69]"
      ]
     },
     "execution_count": 7,
     "metadata": {},
     "output_type": "execute_result"
    }
   ],
   "source": [
    "def quicksort(v):\n",
    "    if len(v) <= 1:\n",
    "        return v\n",
    "    \n",
    "    pivot = v[0]\n",
    "    lhs = [x for x in v[1:] if x <= pivot]\n",
    "    rhs = [x for x in v[1:] if x > pivot]\n",
    "    return quicksort(lhs) + [pivot] + quicksort(rhs)\n",
    "\n",
    "\n",
    "v = [45, 69, 3.3, -69, 22]\n",
    "quicksort(v)"
   ]
  },
  {
   "cell_type": "code",
   "execution_count": 15,
   "metadata": {},
   "outputs": [
    {
     "data": {
      "text/plain": [
       "(True, False)"
      ]
     },
     "execution_count": 15,
     "metadata": {},
     "output_type": "execute_result"
    }
   ],
   "source": [
    "def is_single_riffle(shuffled_deck, half1, half2):\n",
    "    i, j, k = 0, 0, 0\n",
    "    \n",
    "    while k < len(shuffled_deck):\n",
    "        # check the hands\n",
    "        if i < len(half1) and shuffled_deck[k] == half1[i]:\n",
    "            i += 1\n",
    "        elif j < len(half2) and shuffled_deck[k] == half2[j]:\n",
    "            j += 1\n",
    "        else:\n",
    "            return False\n",
    "        k += 1\n",
    "    return True\n",
    "\n",
    "    \n",
    "    \n",
    "is_single_riffle(shuffled_deck=[1, 2, 3, 4, 5, 6], half1=[1, 3, 5], half2=[2, 4, 6]), is_single_riffle(shuffled_deck=[1, 2, 3, 4, 5, 6], half1=[1, 5, 3], half2=[2, 4, 6])"
   ]
  },
  {
   "cell_type": "code",
   "execution_count": null,
   "metadata": {},
   "outputs": [],
   "source": []
  }
 ],
 "metadata": {
  "anaconda-cloud": {},
  "kernelspec": {
   "display_name": "Python 3",
   "language": "python",
   "name": "python3"
  },
  "language_info": {
   "codemirror_mode": {
    "name": "ipython",
    "version": 3
   },
   "file_extension": ".py",
   "mimetype": "text/x-python",
   "name": "python",
   "nbconvert_exporter": "python",
   "pygments_lexer": "ipython3",
   "version": "3.7.4"
  }
 },
 "nbformat": 4,
 "nbformat_minor": 1
}
